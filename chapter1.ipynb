{
  "cells": [
    {
      "cell_type": "markdown",
      "metadata": {
        "id": "view-in-github",
        "colab_type": "text"
      },
      "source": [
        "<a href=\"https://colab.research.google.com/github/gowebUSA/gheniabla-Advanced-Python/blob/main/chapter1.ipynb\" target=\"_parent\"><img src=\"https://colab.research.google.com/assets/colab-badge.svg\" alt=\"Open In Colab\"/></a>"
      ]
    },
    {
      "cell_type": "markdown",
      "metadata": {
        "id": "LlkvSiA70Jyz"
      },
      "source": [
        "\n",
        "# Chapter 1 - NumPy"
      ]
    },
    {
      "cell_type": "markdown",
      "metadata": {
        "id": "W7Ct7EuO0Jyz"
      },
      "source": [
        "NumPy, short for Numerical Python, is an open-source library for the Python programming language. It provides support for large, multi-dimensional arrays and matrices, along with a large collection of high-level mathematical functions to operate on these arrays. NumPy is foundational library for scientific computing in Python and serves as a critical library for data analysis, linear algebra, Fourier transform, and random number capabilities.\n",
        "\n",
        "NumPy's ability to perform efficient operations on arrays and matrices makes it an indispensable tool for numerical computations in Python. This efficiency comes from NumPy's implementation in language C and Fortran, which allows for fast processing of large arrays of data, much more so than Python's built-in sequences like lists.\n",
        "\n",
        "NumPy arrays are more memory-efficient than Python lists and enable more convenient and faster computations due to their fixed type requirement, which allows for more efficient storage and data access. Furthermore, NumPy integrates well with other libraries in the Python ecosystem for data manipulation (like Pandas), plotting (like Matplotlib), scientific calculation (like SciPy), machine learning (like Scikit-learn) and deep learning ( TensorFlow ) making it a cornerstone for data science and machine learning projects in Python.\n",
        "\n",
        "As of February 2024, with more than 35k commits on GitHub (https://github.com/numpy/numpy)  and an active community of more than two million users and 1.6K contributors, it is one the most active Python libraries.    \n",
        "\n",
        "**Features:**\n",
        "\n",
        "NumPy provides:\n",
        "*   A powerful N-dimensional array object\n",
        "*   Sophisticated (broadcasting) functions\n",
        "*   Tools for integrating C/C++ and Fortran codes\n",
        "*   Useful linear algebra, Fourier transform, and random number capabilities\n",
        "\n",
        "**Documentation:**\n",
        "\n",
        "The official documentation is located at: https://numpy.org/doc.\n",
        "\n",
        "The rest of this tutorial is based on the NumPy tutorial Stanford CS class CS231n: Convolutional Neural Networks for Visual Recognition: http://cs231n.stanford.edu, with necesary updates."
      ]
    },
    {
      "cell_type": "markdown",
      "metadata": {
        "id": "olw4vHtp0Jy0"
      },
      "source": [
        "### 1.1 Importing NumPy\n",
        "\n",
        "NumPy import:"
      ]
    },
    {
      "cell_type": "code",
      "execution_count": null,
      "metadata": {
        "collapsed": true,
        "id": "xFyVg81m0Jy1",
        "outputId": "60efa824-9b05-4495-a1e6-698cdf8cead4",
        "colab": {
          "base_uri": "https://localhost:8080/"
        }
      },
      "outputs": [
        {
          "output_type": "stream",
          "name": "stdout",
          "text": [
            "1.25.2\n"
          ]
        }
      ],
      "source": [
        "import numpy as np\n",
        "print(np.__version__)"
      ]
    },
    {
      "cell_type": "markdown",
      "metadata": {
        "id": "-WdeWYYz0Jy2"
      },
      "source": [
        "### 1.2 NumPy Arrays\n",
        "\n",
        "A NumPy array is a grid of values, all of the same data type, and is indexed by a tuple of nonnegative integers. The number of dimensions is the *rank* of the array; the *shape* of an array is a tuple of integers giving the size of the array along each dimension.\n",
        "\n",
        "We can initialize NumPy arrays from nested Python lists, and access elements using square brackets:"
      ]
    },
    {
      "cell_type": "code",
      "execution_count": null,
      "metadata": {
        "collapsed": true,
        "id": "3nmxv-M30Jy3",
        "outputId": "718e8a25-cee3-4c36-8a05-7b5896d29726",
        "colab": {
          "base_uri": "https://localhost:8080/"
        }
      },
      "outputs": [
        {
          "output_type": "stream",
          "name": "stdout",
          "text": [
            "<class 'numpy.ndarray'>\n",
            "(3,)\n",
            "1 2 3\n",
            "[5 2 3]\n",
            "(2, 3)\n",
            "1 2 4\n"
          ]
        }
      ],
      "source": [
        "import numpy as np\n",
        "\n",
        "a = np.array([1, 2, 3])   # Create a rank 1 array => 1-dimensional array\n",
        "print(type(a))            # Prints \"<class 'numpy.ndarray'>\"\n",
        "print(a.shape)            # Prints \"(3,)\"\n",
        "print(a[0], a[1], a[2])   # Prints \"1 2 3\"\n",
        "a[0] = 5                  # Change an element of the array\n",
        "print(a)                  # Prints \"[5, 2, 3]\"\n",
        "\n",
        "b = np.array([[1,2,3],[4,5,6]])    # Create a rank 2 array\n",
        "print(b.shape)                     # Prints \"(2, 3)\"\n",
        "print(b[0, 0], b[0, 1], b[1, 0])   # Prints \"1 2 4\""
      ]
    },
    {
      "cell_type": "markdown",
      "source": [
        "NumPy also provides multiple functions to create arrays:"
      ],
      "metadata": {
        "id": "Zj_3w6dp7aFa"
      }
    },
    {
      "cell_type": "code",
      "source": [
        "import numpy as np\n",
        "\n",
        "a = np.zeros((2,2))   # Creates an array of all zeros\n",
        "print(a)              # Prints \"[[ 0.  0.]\n",
        "                      #          [ 0.  0.]]\"\n",
        "\n",
        "b = np.ones((1,2))    # Creates an array of all ones\n",
        "print(b)              # Prints \"[[ 1.  1.]]\"\n",
        "\n",
        "c = np.full((2,2), 7)  # Creates a constant array\n",
        "print(c)               # Prints \"[[ 7.  7.]\n",
        "                       #          [ 7.  7.]]\"\n",
        "\n",
        "d = np.eye(2)         # Creates a 2x2 identity matrix\n",
        "print(d)              # Prints \"[[ 1.  0.]\n",
        "                      #          [ 0.  1.]]\"\n",
        "\n",
        "e = np.random.random((2,2))  # Create an array filled with random values\n",
        "print(e)                     # Might print \"[[0.89779274 0.91589176]\n",
        "                             #              [0.16646898 0.78163218]]\"\n"
      ],
      "metadata": {
        "id": "zILsNkkM7itV",
        "outputId": "6c515b68-0698-4d50-9c7b-22adf9098b5a",
        "colab": {
          "base_uri": "https://localhost:8080/"
        }
      },
      "execution_count": null,
      "outputs": [
        {
          "output_type": "stream",
          "name": "stdout",
          "text": [
            "[[0. 0.]\n",
            " [0. 0.]]\n",
            "[[1. 1.]]\n",
            "[[7 7]\n",
            " [7 7]]\n",
            "[[1. 0.]\n",
            " [0. 1.]]\n",
            "[[0.20274385 0.59921048]\n",
            " [0.98432919 0.15681408]]\n"
          ]
        }
      ]
    },
    {
      "cell_type": "markdown",
      "source": [
        "The details of other methods of array creation can be found in the NumPy documentation: https://numpy.org/doc/stable/user/basics.creation.html#arrays-creation"
      ],
      "metadata": {
        "id": "CeMs4Xir7r1k"
      }
    },
    {
      "cell_type": "markdown",
      "source": [
        "## 1.3 Array indexing\n",
        "\n",
        "NumPy offers several ways to index arrays.\n",
        "\n",
        "**Slicing:** Similar to Python lists, NumPy arrays can be sliced. Since arrays may be multidimensional, you must specify a slice for each dimension of the array:"
      ],
      "metadata": {
        "id": "NwWaCvG24bk8"
      }
    },
    {
      "cell_type": "code",
      "source": [
        "import numpy as np\n",
        "\n",
        "# Create the following rank 2 array with shape (3, 4)\n",
        "# [[ 1  2  3  4]\n",
        "#  [ 5  6  7  8]\n",
        "#  [ 9 10 11 12]]\n",
        "a = np.array([[1,2,3,4], [5,6,7,8], [9,10,11,12]])\n",
        "\n",
        "# Use slicing to pull out the subarray consisting of the first 2 rows\n",
        "# and columns 1 and 2; b is the following array of shape (2, 2):\n",
        "# [[2 3]\n",
        "#  [6 7]]\n",
        "b = a[:2, 1:3]\n",
        "print(f\"b={b}\")\n",
        "\n",
        "# A slice of an array is a view into the same data, so modifying it\n",
        "# will modify the original array.\n",
        "print(a[0, 1])   # Prints \"2\"\n",
        "b[0, 0] = 77     # b[0, 0] is the same piece of data as a[0, 1]\n",
        "print(a[0, 1])   # Prints \"77\"\n"
      ],
      "metadata": {
        "id": "2bq9XMAbN-Hz",
        "outputId": "1e4d605c-4782-4b73-be1f-5da74ddfc2f7",
        "colab": {
          "base_uri": "https://localhost:8080/"
        }
      },
      "execution_count": null,
      "outputs": [
        {
          "output_type": "stream",
          "name": "stdout",
          "text": [
            "b=[[2 3]\n",
            " [6 7]]\n",
            "2\n",
            "77\n"
          ]
        }
      ]
    },
    {
      "cell_type": "markdown",
      "source": [
        "You can also mix integer indexing with slice indexing. However, doing so will yield an array of lower rank than the original array."
      ],
      "metadata": {
        "id": "qVd_5Bj8O13V"
      }
    },
    {
      "cell_type": "code",
      "source": [
        "import numpy as np\n",
        "\n",
        "# Create the following rank 2 array with shape (3, 4)\n",
        "# [[ 1  2  3  4]\n",
        "#  [ 5  6  7  8]\n",
        "#  [ 9 10 11 12]]\n",
        "a = np.array([[1,2,3,4], [5,6,7,8], [9,10,11,12]])\n",
        "\n",
        "# Two ways of accessing the data in the middle row of the array.\n",
        "# Mixing integer indexing with slices yields an array of lower rank,\n",
        "# while using only slices yields an array of the same rank as the\n",
        "# original array:\n",
        "row_r1 = a[1, :]    # Rank 1 view of the second row of a\n",
        "row_r2 = a[1:2, :]  # Rank 2 view of the second row of a\n",
        "print(row_r1, row_r1.shape)  # Prints \"[5 6 7 8] (4,)\"\n",
        "print(row_r2, row_r2.shape)  # Prints \"[[5 6 7 8]] (1, 4)\"\n",
        "\n",
        "# We can make the same distinction when accessing columns of an array:\n",
        "col_r1 = a[:, 1]\n",
        "col_r2 = a[:, 1:2]\n",
        "print(col_r1, col_r1.shape)  # Prints \"[ 2  6 10] (3,)\"\n",
        "print(col_r2, col_r2.shape)  # Prints \"[[ 2]\n",
        "                             #          [ 6]\n",
        "                             #          [10]] (3, 1)\""
      ],
      "metadata": {
        "id": "XGHVZgLPPECl",
        "outputId": "87d733f0-8361-4260-fdd5-452eea3eb7b3",
        "colab": {
          "base_uri": "https://localhost:8080/"
        }
      },
      "execution_count": null,
      "outputs": [
        {
          "output_type": "stream",
          "name": "stdout",
          "text": [
            "[5 6 7 8] (4,)\n",
            "[[5 6 7 8]] (1, 4)\n",
            "[ 2  6 10] (3,)\n",
            "[[ 2]\n",
            " [ 6]\n",
            " [10]] (3, 1)\n"
          ]
        }
      ]
    },
    {
      "cell_type": "markdown",
      "source": [
        "**Integer array indexing:** When you index into NumPy arrays using slicing, the resulting array view will always be a subarray of the original array. In contrast, integer array indexing allows you to construct arbitrary arrays using the data from another array. Here is an example:"
      ],
      "metadata": {
        "id": "9lBX5KwnQbDL"
      }
    },
    {
      "cell_type": "code",
      "source": [
        "import numpy as np\n",
        "\n",
        "a = np.array([[1,2], [3, 4], [5, 6]])\n",
        "\n",
        "# An example of integer array indexing.\n",
        "# The returned array will have shape (3,) and\n",
        "print(a[[0, 1, 2], [0, 1, 0]])  # Prints \"[1 4 5]\"\n",
        "\n",
        "# The above example of integer array indexing is equivalent to this:\n",
        "print(np.array([a[0, 0], a[1, 1], a[2, 0]]))  # Prints \"[1 4 5]\"\n",
        "\n",
        "# When using integer array indexing, you can reuse the same\n",
        "# element from the source array:\n",
        "print(a[[0, 0], [1, 1]])  # Prints \"[2 2]\"\n",
        "\n",
        "# Equivalent to the previous integer array indexing example\n",
        "print(np.array([a[0, 1], a[0, 1]]))  # Prints \"[2 2]\""
      ],
      "metadata": {
        "id": "wDCA3I2VQnVt",
        "outputId": "10ad3b83-af7c-499c-9ff2-4fc425c3baef",
        "colab": {
          "base_uri": "https://localhost:8080/"
        }
      },
      "execution_count": null,
      "outputs": [
        {
          "output_type": "stream",
          "name": "stdout",
          "text": [
            "[1 4 5]\n",
            "[1 4 5]\n",
            "[2 2]\n",
            "[2 2]\n"
          ]
        }
      ]
    },
    {
      "cell_type": "markdown",
      "source": [
        "One useful trick with integer array indexing is selecting or mutating one element from each row of a matrix:"
      ],
      "metadata": {
        "id": "SmaoxhNwSW2G"
      }
    },
    {
      "cell_type": "code",
      "execution_count": null,
      "metadata": {
        "id": "qvixdO4f0Jy5",
        "outputId": "73092c6a-3d78-4057-9999-838de18f838e",
        "colab": {
          "base_uri": "https://localhost:8080/"
        }
      },
      "outputs": [
        {
          "output_type": "stream",
          "name": "stdout",
          "text": [
            "[[ 1  2  3]\n",
            " [ 4  5  6]\n",
            " [ 7  8  9]\n",
            " [10 11 12]]\n",
            "[ 1  6  7 11]\n",
            "[[11  2  3]\n",
            " [ 4  5 16]\n",
            " [17  8  9]\n",
            " [10 21 12]]\n"
          ]
        }
      ],
      "source": [
        "import numpy as np\n",
        "\n",
        "# Create a new array from which we will select elements\n",
        "a = np.array([[1,2,3], [4,5,6], [7,8,9], [10, 11, 12]])\n",
        "\n",
        "print(a)  # prints \"array([[ 1,  2,  3],\n",
        "          #                [ 4,  5,  6],\n",
        "          #                [ 7,  8,  9],\n",
        "          #                [10, 11, 12]])\"\n",
        "\n",
        "# Create an array of indices\n",
        "b = np.array([0, 2, 0, 1])\n",
        "\n",
        "# Select one element from each row of a using the indices in b\n",
        "print(a[np.arange(4), b])  # Prints \"[ 1  6  7 11]\"\n",
        "\n",
        "# Mutate one element from each row of a using the indices in b\n",
        "a[np.arange(4), b] += 10\n",
        "\n",
        "print(a)  # prints \"array([[11,  2,  3],\n",
        "          #                [ 4,  5, 16],\n",
        "          #                [17,  8,  9],\n",
        "          #                [10, 21, 12]])\n"
      ]
    },
    {
      "cell_type": "markdown",
      "source": [
        "**Boolean array indexing:** Boolean array indexing lets you pick out arbitrary elements of an array. Frequently, this type of indexing is used to select the elements of an array that satisfies some condition. Here is an example:"
      ],
      "metadata": {
        "id": "9e9bZvHN9Ctt"
      }
    },
    {
      "cell_type": "code",
      "source": [
        "import numpy as np\n",
        "\n",
        "a = np.array([[1,2], [3, 4], [5, 6]])\n",
        "\n",
        "bool_idx = (a > 2)   # Find the elements of a that are bigger than 2;\n",
        "                     # this returns a numpy array of Booleans of the same\n",
        "                     # shape as a, where each slot of bool_idx tells\n",
        "                     # whether that element of a is > 2.\n",
        "\n",
        "print(bool_idx)      # Prints \"[[False False]\n",
        "                     #          [ True  True]\n",
        "                     #          [ True  True]]\"\n",
        "\n",
        "# We use boolean array indexing to construct a rank 1 array\n",
        "# consisting of the elements of a corresponding to the True values\n",
        "# of bool_idx\n",
        "print(a[bool_idx])  # Prints \"[3 4 5 6]\"\n",
        "\n",
        "# We can do all of the above in a single concise statement:\n",
        "print(a[a > 2])     # Prints \"[3 4 5 6]\"\n"
      ],
      "metadata": {
        "id": "OrZPpF0E9MCY",
        "outputId": "98142ce6-9638-4b2c-8938-69f169a51393",
        "colab": {
          "base_uri": "https://localhost:8080/"
        }
      },
      "execution_count": null,
      "outputs": [
        {
          "output_type": "stream",
          "name": "stdout",
          "text": [
            "[[False False]\n",
            " [ True  True]\n",
            " [ True  True]]\n",
            "[3 4 5 6]\n",
            "[3 4 5 6]\n"
          ]
        }
      ]
    },
    {
      "cell_type": "markdown",
      "source": [
        "More details of the NumPy array indexing can be found here: https://numpy.org/doc/stable/reference/arrays.indexing.html"
      ],
      "metadata": {
        "id": "k0ULH4H99TE3"
      }
    },
    {
      "cell_type": "markdown",
      "source": [
        "## 1.4 Datatypes\n",
        "\n",
        "Every NumPy array is a grid of elements of the same type. NumPy provides a large set of numeric datatypes that you can use to construct arrays. NumPy tries to guess a datatype when you create an array, but functions that construct arrays usually also include an optional argument to explicitly specify the datatype. Here is an example:\n"
      ],
      "metadata": {
        "id": "mDXbPzSQ5TLj"
      }
    },
    {
      "cell_type": "code",
      "source": [
        "import numpy as np\n",
        "\n",
        "x = np.array([1, 2])   # Let numpy choose the datatype\n",
        "print(x.dtype)         # Prints \"int64\"\n",
        "\n",
        "x = np.array([1.0, 2.0])   # Let numpy choose the datatype\n",
        "print(x.dtype)             # Prints \"float64\"\n",
        "\n",
        "x = np.array([1, 2], dtype=np.int64)   # Force a particular datatype\n",
        "print(x.dtype)                         # Prints \"int64\"\n"
      ],
      "metadata": {
        "id": "ZAgs9UOM-PQW",
        "outputId": "d00a21ca-84fe-4187-94e6-e7c9ab2fd95e",
        "colab": {
          "base_uri": "https://localhost:8080/"
        }
      },
      "execution_count": null,
      "outputs": [
        {
          "output_type": "stream",
          "name": "stdout",
          "text": [
            "int64\n",
            "float64\n",
            "int64\n"
          ]
        }
      ]
    },
    {
      "cell_type": "markdown",
      "source": [
        "The details of NumPy datatypes can be found here: https://numpy.org/doc/stable/reference/arrays.dtypes.html"
      ],
      "metadata": {
        "id": "HPTnrTCCVHro"
      }
    },
    {
      "cell_type": "markdown",
      "source": [
        "## 1.5 Array Math\n",
        "\n",
        "Basic mathematical functions operate elementwise on arrays, and are available both as operator overloads and as functions in the NumPy module:"
      ],
      "metadata": {
        "id": "8Qps72NN5q8z"
      }
    },
    {
      "cell_type": "code",
      "source": [
        "import numpy as np\n",
        "\n",
        "x = np.array([[1,2],[3,4]], dtype=np.float64)\n",
        "y = np.array([[5,6],[7,8]], dtype=np.float64)\n",
        "\n",
        "# Elementwise sum; both produce the array\n",
        "# [[ 6.0  8.0]\n",
        "#  [10.0 12.0]]\n",
        "print(x + y)\n",
        "print(np.add(x, y))\n",
        "\n",
        "# Elementwise difference; both produce the array\n",
        "# [[-4.0 -4.0]\n",
        "#  [-4.0 -4.0]]\n",
        "print(x - y)\n",
        "print(np.subtract(x, y))\n",
        "\n",
        "# Elementwise product; both produce the array\n",
        "# [[ 5.0 12.0]\n",
        "#  [21.0 32.0]]\n",
        "print(x * y)\n",
        "print(np.multiply(x, y))\n",
        "\n",
        "# Elementwise division; both produce the array\n",
        "# [[ 0.2         0.33333333]\n",
        "#  [ 0.42857143  0.5       ]]\n",
        "print(x / y)\n",
        "print(np.divide(x, y))\n",
        "\n",
        "# Elementwise square root; produces the array\n",
        "# [[ 1.          1.41421356]\n",
        "#  [ 1.73205081  2.        ]]\n",
        "print(np.sqrt(x))"
      ],
      "metadata": {
        "id": "GtyqRG5k-8JV",
        "outputId": "a8907095-aedc-4ded-a178-c479a42ae2bd",
        "colab": {
          "base_uri": "https://localhost:8080/"
        }
      },
      "execution_count": null,
      "outputs": [
        {
          "output_type": "stream",
          "name": "stdout",
          "text": [
            "[[ 6.  8.]\n",
            " [10. 12.]]\n",
            "[[ 6.  8.]\n",
            " [10. 12.]]\n",
            "[[-4. -4.]\n",
            " [-4. -4.]]\n",
            "[[-4. -4.]\n",
            " [-4. -4.]]\n",
            "[[ 5. 12.]\n",
            " [21. 32.]]\n",
            "[[ 5. 12.]\n",
            " [21. 32.]]\n",
            "[[0.2        0.33333333]\n",
            " [0.42857143 0.5       ]]\n",
            "[[0.2        0.33333333]\n",
            " [0.42857143 0.5       ]]\n",
            "[[1.         1.41421356]\n",
            " [1.73205081 2.        ]]\n"
          ]
        }
      ]
    },
    {
      "cell_type": "markdown",
      "source": [
        "'*' is elementwise multiplication, not matrix multiplication. NumPy instead uses the dot function to compute inner products of vectors, to multiply a vector by a matrix, and to multiply matrices. \"dot\" is available both as a function in the NumPy module and as an instance method of array objects:"
      ],
      "metadata": {
        "id": "KipIgeeG_E80"
      }
    },
    {
      "cell_type": "code",
      "source": [
        "import numpy as np\n",
        "\n",
        "x = np.array([[1,2],[3,4]])\n",
        "y = np.array([[5,6],[7,8]])\n",
        "\n",
        "v = np.array([9,10])\n",
        "w = np.array([11, 12])\n",
        "\n",
        "# Inner product of vectors; both produce 219\n",
        "# 9 × 11 + 10 × 12 = 99 + 120 = 219\n",
        "print(v.dot(w))\n",
        "print(np.dot(v, w))\n",
        "\n",
        "# Matrix / vector product; both produce the rank 1 array [29 67]\n",
        "# [1 2] [9] = [(1×9+2×10)] = [9+20] = [29]\n",
        "#  3 4  10     (3×9+4×10)    27+40     67\n",
        "print(x.dot(v))\n",
        "print(np.dot(x, v))\n",
        "\n",
        "# Matrix / matrix product; both produce the rank 2 array\n",
        "# x * y = [(1×5+2×7)  (1×6+2×8)]\n",
        "#           3x5+4x7    3x6+4x8\n",
        "#       = [(5+14)       (6+16)]\n",
        "#          (15+28)      (18+32)\n",
        "#       = [19 22]\n",
        "#          43 50\n",
        "# = [[19 22]\n",
        "#   [43 50]]\n",
        "print(x.dot(y))\n",
        "print(np.dot(x, y))"
      ],
      "metadata": {
        "colab": {
          "base_uri": "https://localhost:8080/"
        },
        "id": "M4FWcVmu56xL",
        "outputId": "23855b1e-cd7c-4d52-a397-ce3bb7fa4feb"
      },
      "execution_count": null,
      "outputs": [
        {
          "output_type": "stream",
          "name": "stdout",
          "text": [
            "219\n",
            "219\n",
            "[29 67]\n",
            "[29 67]\n",
            "[[19 22]\n",
            " [43 50]]\n",
            "[[19 22]\n",
            " [43 50]]\n"
          ]
        }
      ]
    },
    {
      "cell_type": "markdown",
      "source": [
        "NumPy provides many useful functions for performing computations on arrays; one of the most useful is sum:"
      ],
      "metadata": {
        "id": "Vr9mTNb3_cqU"
      }
    },
    {
      "cell_type": "code",
      "source": [
        "import numpy as np\n",
        "\n",
        "x = np.array([[1,2],[3,4]])\n",
        "\n",
        "# [1 2]\n",
        "#  3 4\n",
        "\n",
        "print(np.sum(x))  # Compute sum of all elements; prints \"10\"\n",
        "# [1+2+3+4] = 10\n",
        "\n",
        "print(np.sum(x, axis=0))  # Compute sum of each column; prints \"[4 6]\"\n",
        "# [1+3 2+4] = [4]\n",
        "#              6\n",
        "print(np.sum(x, axis=1))  # Compute sum of each row; prints \"[3 7]\"\n",
        "# [1+2] = [3]\n",
        "#  3+4     7"
      ],
      "metadata": {
        "id": "RGCxH1Pc_d0P",
        "outputId": "9e8e4285-5e08-4200-96ad-c0055becfb32",
        "colab": {
          "base_uri": "https://localhost:8080/"
        }
      },
      "execution_count": null,
      "outputs": [
        {
          "output_type": "stream",
          "name": "stdout",
          "text": [
            "10\n",
            "[4 6]\n",
            "[3 7]\n"
          ]
        }
      ]
    },
    {
      "cell_type": "markdown",
      "source": [
        "The full list of mathematical functions provided by NumPy can be found in this  documentation: https://numpy.org/doc/stable/reference/routines.math.html\n",
        "\n",
        "Apart from computing mathematical functions using arrays, we frequently need to reshape or otherwise manipulate data in arrays. The simplest example of this type of operation is transposing a matrix; to transpose a matrix, simply use the T attribute of an array object:\n",
        "\n"
      ],
      "metadata": {
        "id": "RrreU8Nx_nzS"
      }
    },
    {
      "cell_type": "code",
      "source": [
        "import numpy as np\n",
        "\n",
        "x = np.array([[1,2], [3,4]])\n",
        "print(x)    # Prints \"[[1 2]\n",
        "            #          [3 4]]\"\n",
        "print(x.T)  # Prints \"[[1 3]\n",
        "            #          [2 4]]\"\n",
        "\n",
        "# Note that taking the transpose of a rank 1 array does nothing:\n",
        "v = np.array([1,2,3])\n",
        "print(v)    # Prints \"[1 2 3]\"\n",
        "print(v.T)  # Prints \"[1 2 3]\""
      ],
      "metadata": {
        "id": "6qOfTPXd_9PS",
        "outputId": "0d386933-0978-48ee-c02f-e2a569d3ee3a",
        "colab": {
          "base_uri": "https://localhost:8080/"
        }
      },
      "execution_count": null,
      "outputs": [
        {
          "output_type": "stream",
          "name": "stdout",
          "text": [
            "[[1 2]\n",
            " [3 4]]\n",
            "[[1 3]\n",
            " [2 4]]\n",
            "[1 2 3]\n",
            "[1 2 3]\n"
          ]
        }
      ]
    },
    {
      "cell_type": "markdown",
      "source": [
        "NumPy provides many more functions for manipulating arrays; you can see the full list in the documentation: https://numpy.org/doc/stable/reference/routines.array-manipulation.html"
      ],
      "metadata": {
        "id": "QgPpD3nZAFfm"
      }
    },
    {
      "cell_type": "markdown",
      "source": [
        "## 1.6 Broadcasting\n",
        "\n",
        "Broadcasting is a powerful mechanism that allows NumPy to work with arrays of different shapes when performing arithmetic operations. Frequently, we have a smaller array and a larger array, and we want to use the smaller array multiple times to perform some operation on the larger array.\n",
        "\n",
        "For example, suppose that we want to add a constant vector to each row of a matrix. We could do it like this:"
      ],
      "metadata": {
        "id": "zN95VcijaZtP"
      }
    },
    {
      "cell_type": "code",
      "source": [
        "import numpy as np\n",
        "\n",
        "# We will add the vector v to each row of the matrix x,\n",
        "# storing the result in the matrix y\n",
        "x = np.array([[1,2,3], [4,5,6], [7,8,9], [10, 11, 12]])\n",
        "# [1 2 3]\n",
        "#  4 5 6\n",
        "#  7 8 9\n",
        "# 10 11 12\n",
        "\n",
        "v = np.array([1, 0, 1])\n",
        "y = np.empty_like(x)   # Create an empty matrix with the same shape as x\n",
        "#                        but with uninitialized values\n",
        "#                        (random memory garbage initially).\n",
        "\n",
        "# Add the vector v to each row of the matrix x with an explicit loop\n",
        "for i in range(4):  # loop four times, corresponding to the 4 rows of x.\n",
        "    y[i, :] = x[i, :] + v  # means that for each row i, we add v element-wise.\n",
        "\n",
        "# Now y is the following\n",
        "# [[ 2  2  4]\n",
        "#  [ 5  5  7]\n",
        "#  [ 8  8 10]\n",
        "#  [11 11 13]]\n",
        "print(y)"
      ],
      "metadata": {
        "id": "0iVpA69gAjE_",
        "outputId": "69fa264f-a4ff-4f40-8b2e-26a9cbe696cb",
        "colab": {
          "base_uri": "https://localhost:8080/"
        }
      },
      "execution_count": null,
      "outputs": [
        {
          "output_type": "stream",
          "name": "stdout",
          "text": [
            "[[ 2  2  4]\n",
            " [ 5  5  7]\n",
            " [ 8  8 10]\n",
            " [11 11 13]]\n"
          ]
        }
      ]
    },
    {
      "cell_type": "markdown",
      "source": [
        "This works; however when the matrix x is very large, computing an explicit loop in Python could be slow. Note that adding the vector v to each row of the matrix x is equivalent to forming a matrix vv by stacking multiple copies of v vertically, then performing elementwise summation of x and vv. We could implement this approach like this:"
      ],
      "metadata": {
        "id": "0fLtmBXOAlIm"
      }
    },
    {
      "cell_type": "code",
      "source": [
        "import numpy as np\n",
        "\n",
        "# We will add the vector v to each row of the matrix x,\n",
        "# storing the result in the matrix y\n",
        "x = np.array([[1,2,3], [4,5,6], [7,8,9], [10, 11, 12]])\n",
        "v = np.array([1, 0, 1])\n",
        "vv = np.tile(v, (4, 1))   # Stack 4 copies of v on top of each other\n",
        "print(vv)                 # Prints \"[[1 0 1]\n",
        "                          #          [1 0 1]\n",
        "                          #          [1 0 1]\n",
        "                          #          [1 0 1]]\"\n",
        "y = x + vv  # Add x and vv elementwise\n",
        "print(y)  # Prints \"[[ 2  2  4\n",
        "          #          [ 5  5  7]\n",
        "          #          [ 8  8 10]\n",
        "          #          [11 11 13]]\""
      ],
      "metadata": {
        "id": "v_mpMi9dAqZ7",
        "outputId": "0e244c33-3c57-4de7-925f-35a36d7bb114",
        "colab": {
          "base_uri": "https://localhost:8080/"
        }
      },
      "execution_count": null,
      "outputs": [
        {
          "output_type": "stream",
          "name": "stdout",
          "text": [
            "[[1 0 1]\n",
            " [1 0 1]\n",
            " [1 0 1]\n",
            " [1 0 1]]\n",
            "[[ 2  2  4]\n",
            " [ 5  5  7]\n",
            " [ 8  8 10]\n",
            " [11 11 13]]\n"
          ]
        }
      ]
    },
    {
      "cell_type": "markdown",
      "source": [
        "![Python axis 0 and 1.png](data:image/png;base64,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)"
      ],
      "metadata": {
        "id": "CTBYfHWIoCGp"
      }
    },
    {
      "cell_type": "markdown",
      "source": [
        "\n",
        "NumPy broadcasting allows us to perform this computation without actually creating multiple copies of v. Consider this version, using broadcasting:"
      ],
      "metadata": {
        "id": "COvdo-NfAvI4"
      }
    },
    {
      "cell_type": "code",
      "source": [
        "import numpy as np\n",
        "\n",
        "# We will add the vector v to each row of the matrix x,\n",
        "# storing the result in the matrix y\n",
        "x = np.array([[1,2,3], [4,5,6], [7,8,9], [10, 11, 12]])\n",
        "v = np.array([1, 0, 1])\n",
        "y = x + v  # Add v to each row of x using broadcasting\n",
        "print(y)  # Prints \"[[ 2  2  4]\n",
        "          #          [ 5  5  7]\n",
        "          #          [ 8  8 10]\n",
        "          #          [11 11 13]]\"\n"
      ],
      "metadata": {
        "id": "VfhKETxHXFyB",
        "outputId": "d11b25cb-3ec0-410c-d0a1-16e48b0eb918",
        "colab": {
          "base_uri": "https://localhost:8080/"
        }
      },
      "execution_count": null,
      "outputs": [
        {
          "output_type": "stream",
          "name": "stdout",
          "text": [
            "[[ 2  2  4]\n",
            " [ 5  5  7]\n",
            " [ 8  8 10]\n",
            " [11 11 13]]\n"
          ]
        }
      ]
    },
    {
      "cell_type": "markdown",
      "source": [
        "The line y = x + v works even though x has shape (4, 3) and v has shape (3,) due to broadcasting; this line works as if v actually had shape (4, 3), where each row was a copy of v, and the sum was performed elementwise.\n",
        "\n",
        "Broadcasting two arrays together follows these rules:\n",
        "\n",
        "If the arrays do not have the same rank, prepend the shape of the lower rank array with 1s until both shapes have the same length.\n",
        "The two arrays are said to be compatible in a dimension if they have the same size in the dimension, or if one of the arrays has size 1 in that dimension.\n",
        "The arrays can be broadcast together if they are compatible in all dimensions.\n",
        "After broadcasting, each array behaves as if it had shape equal to the elementwise maximum of shapes of the two input arrays.\n",
        "In any dimension where one array had size 1 and the other array had size greater than 1, the first array behaves as if it were copied along that dimension\n",
        "If this explanation does not make sense, try reading the explanation from the documentation: https://numpy.org/doc/stable/user/basics.broadcasting.html\n",
        "\n",
        "Functions that support broadcasting are known as universal functions. You can find the list of all universal functions in the documentation at here: https://numpy.org/doc/stable/reference/ufuncs.html#available-ufuncs\n",
        "\n",
        "Here are some applications of broadcasting:\n"
      ],
      "metadata": {
        "id": "pXY99jFDA7WJ"
      }
    },
    {
      "cell_type": "code",
      "source": [
        "import numpy as np\n",
        "\n",
        "# Compute outer product of vectors\n",
        "v = np.array([1,2,3])  # v has shape (3,)\n",
        "w = np.array([4,5])    # w has shape (2,)\n",
        "# To compute an outer product, we first reshape v to be a column\n",
        "# vector of shape (3, 1); we can then broadcast it against w to yield\n",
        "# an output of shape (3, 2), which is the outer product of v and w:\n",
        "# [[ 4  5]\n",
        "#  [ 8 10]\n",
        "#  [12 15]]\n",
        "print(np.reshape(v, (3, 1)) * w)\n",
        "\n",
        "# Add a vector to each row of a matrix\n",
        "x = np.array([[1,2,3], [4,5,6]])\n",
        "# x has shape (2, 3) and v has shape (3,) so they broadcast to (2, 3),\n",
        "# giving the following matrix:\n",
        "# [[2 4 6]\n",
        "#  [5 7 9]]\n",
        "print(x + v)\n",
        "\n",
        "# Add a vector to each column of a matrix\n",
        "# x has shape (2, 3) and w has shape (2,).\n",
        "# If we transpose x then it has shape (3, 2) and can be broadcast\n",
        "# against w to yield a result of shape (3, 2); transposing this result\n",
        "# yields the final result of shape (2, 3) which is the matrix x with\n",
        "# the vector w added to each column. Gives the following matrix:\n",
        "# [[ 5  6  7]\n",
        "#  [ 9 10 11]]\n",
        "print((x.T + w).T)\n",
        "# Another solution is to reshape w to be a column vector of shape (2, 1);\n",
        "# we can then broadcast it directly against x to produce the same\n",
        "# output.\n",
        "print(x + np.reshape(w, (2, 1)))\n",
        "\n",
        "# Multiply a matrix by a constant:\n",
        "# x has shape (2, 3). Numpy treats scalars as arrays of shape ();\n",
        "# these can be broadcast together to shape (2, 3), producing the\n",
        "# following array:\n",
        "# [[ 2  4  6]\n",
        "#  [ 8 10 12]]\n",
        "print(x * 2)\n"
      ],
      "metadata": {
        "id": "t9FF1tgcXxWT",
        "outputId": "b8b8e24e-35b8-4feb-947b-190389e2808e",
        "colab": {
          "base_uri": "https://localhost:8080/"
        }
      },
      "execution_count": null,
      "outputs": [
        {
          "output_type": "stream",
          "name": "stdout",
          "text": [
            "[[ 4  5]\n",
            " [ 8 10]\n",
            " [12 15]]\n",
            "[[2 4 6]\n",
            " [5 7 9]]\n",
            "[[ 5  6  7]\n",
            " [ 9 10 11]]\n",
            "[[ 5  6  7]\n",
            " [ 9 10 11]]\n",
            "[[ 2  4  6]\n",
            " [ 8 10 12]]\n"
          ]
        }
      ]
    },
    {
      "cell_type": "markdown",
      "source": [
        "Broadcasting typically makes your code more concise and faster, so you should strive to use it where possible."
      ],
      "metadata": {
        "id": "7f1o7G8GBKo1"
      }
    },
    {
      "cell_type": "markdown",
      "source": [
        "## 1.7 Summary  \n",
        "\n",
        "In this chapter, you've learned how to create NumPy arrays, performs array indexing. You've also learned about NumPy data types, Array math and broadcasting.\n",
        "\n"
      ],
      "metadata": {
        "id": "zUBl2EVb76LN"
      }
    }
  ],
  "metadata": {
    "anaconda-cloud": {},
    "kernelspec": {
      "display_name": "Python 3",
      "language": "python",
      "name": "python3"
    },
    "language_info": {
      "codemirror_mode": {
        "name": "ipython",
        "version": 3
      },
      "file_extension": ".py",
      "mimetype": "text/x-python",
      "name": "python",
      "nbconvert_exporter": "python",
      "pygments_lexer": "ipython3",
      "version": "3.5.1"
    },
    "colab": {
      "provenance": [],
      "toc_visible": true,
      "include_colab_link": true
    }
  },
  "nbformat": 4,
  "nbformat_minor": 0
}
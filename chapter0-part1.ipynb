{
  "cells": [
    {
      "cell_type": "markdown",
      "metadata": {
        "id": "view-in-github",
        "colab_type": "text"
      },
      "source": [
        "<a href=\"https://colab.research.google.com/github/gowebUSA/gheniabla-Advanced-Python/blob/main/chapter0-part1.ipynb\" target=\"_parent\"><img src=\"https://colab.research.google.com/assets/colab-badge.svg\" alt=\"Open In Colab\"/></a>"
      ]
    },
    {
      "cell_type": "markdown",
      "metadata": {
        "id": "LlkvSiA70Jyz"
      },
      "source": [
        "\n",
        "# Chapter 0-part1 - Python Language Basics"
      ]
    },
    {
      "cell_type": "markdown",
      "metadata": {
        "id": "W7Ct7EuO0Jyz"
      },
      "source": [
        "Python is a high-level, interpreted programming language known for its clear syntax, readability, and versatility. Developed by Guido van Rossum and first released in 1991, Python has become one of the most popular programming languages in the world, used in a wide range of applications from web development to scientific computing.\n",
        "\n",
        "Key features of Python include:\n",
        "\n",
        "**Ease of Learning and Use:** Python's syntax is designed to be intuitive and similar to the English language, which makes it an excellent choice for beginners in programming. Its readability also allows for easier maintenance and updates to code.\n",
        "\n",
        "**Interpreted Language:** Python code is executed line by line, which makes debugging easier but may result in slower execution compared to compiled languages.\n",
        "\n",
        "**Strongly Typed:** Python is considered a strongly typed language because it does not allow operations on types that are incompatible. In a strongly typed language, the type of a value is rigidly maintained, meaning you cannot, for example, add a string to an integer without explicitly converting the string to an integer or vice versa. This characteristic ensures that type errors are caught, which can help prevent bugs in software development.\n",
        "\n",
        "**Dynamic Typing:** Variables in Python are not explicitly typed. The type is associated at runtime, which adds flexibility but requires careful testing to avoid type-related errors in complex applications.\n",
        "\n",
        "**Extensive Standard Library:** Python comes with a large standard library that includes modules and functions for various tasks, such as file operations, system calls, and even Internet protocols like HTTP and FTP.\n",
        "\n",
        "**Open Source and Community:** Being open-source, Python is freely available for use and distribution, including for commercial purposes. It has a large and active community that contributes to its development and offers a vast ecosystem of third-party packages and frameworks.\n",
        "\n",
        "**Multi-Paradigm:** Python supports different programming paradigms, including procedural, object-oriented, and to some extent, functional programming, making it flexible in approach depending on the problem at hand.\n",
        "\n",
        "**Extensibility:** Python can be extended with modules written in C or C++ for critical operations that need high performance. This allows for the optimization of parts of the application without sacrificing the ease of use of the language.\n",
        "\n",
        "**Portability:** Python code can run on multiple platforms without modification, including Windows, macOS, Linux, and Unix, thanks to its interpreted nature.\n",
        "\n",
        "**Wide Range of Applications:** Python is used in web development (with frameworks like Django and Flask), data science and machine learning (using libraries like NumPy, Pandas, and scikit-learn), automation, scripting, and much more.\n",
        "\n",
        "Python's design philosophy emphasizes code readability and the importance of programmer effort over computational effort, which is reflected in its comprehensive standard library and its principle of \"There should be one—and preferably only one—obvious way to do it.\" This philosophy has led to Python being adopted by beginners and experts alike and has enabled its use in many cutting-edge software projects.\n",
        "\n",
        "As of January 2025, Python is the highest rated language of TIOBE index (https://www.tiobe.com/tiobe-index/).   \n",
        "\n",
        "Website: https://www.python.org/\n"
      ]
    },
    {
      "cell_type": "markdown",
      "metadata": {
        "id": "olw4vHtp0Jy0"
      },
      "source": [
        "### 0.1 Installing Python\n",
        "\n",
        "Installing or updating Python on your computer is the first step to becoming a Python programmer. There are a multitude of installation methods: you can download official Python distributions from Python.org, install from a package manager, and even install specialized distributions such as Anaconda.\n",
        "\n",
        "#### **RGO**\n",
        "- Use **Django** to run python or just use **Colab**\n",
        "\n"
      ]
    },
    {
      "cell_type": "code",
      "source": [
        "print('Hello, World')"
      ],
      "metadata": {
        "id": "e0OTFAvtzf9B",
        "outputId": "8e330197-19d1-472c-f8c0-02eab80d767c",
        "colab": {
          "base_uri": "https://localhost:8080/"
        }
      },
      "execution_count": null,
      "outputs": [
        {
          "output_type": "stream",
          "name": "stdout",
          "text": [
            "Hello, World\n"
          ]
        }
      ]
    },
    {
      "cell_type": "markdown",
      "source": [
        "### 0.2 Running Python\n",
        "\n",
        "There are multiple ways of running Python:\n",
        "\n",
        "1) Call python program via python interpreter from a Unix/Linux/Windows command line.\n",
        "Example command:  python testScript.py\n",
        "\n",
        "2) Make the script directly executable, with additional header lines in the script.\n",
        "\n",
        "3) Using python console: by typing in python statements (Limited functionality)\n",
        "\n",
        "4) Using iPython console\n",
        "\n",
        "5) Using Google Colab (Jupyter) **I will use this - RGO**\n"
      ],
      "metadata": {
        "id": "b8BvbexBUKjd"
      }
    },
    {
      "cell_type": "markdown",
      "source": [
        "### 0.3 Jupyter Notebooks & Running This Tutorial\n",
        "\n",
        "A Jupyter notebook lets you write and execute Python code locally in your web browser. Jupyter notebooks make it very easy to tinker with code and execute it in bits and pieces; for this reason they are widely used in scientific computing. Colab on the other hand is Google’s flavor of Jupyter notebooks that is particularly suited for machine learning and data analysis and that runs entirely in the cloud. Colab is basically Jupyter notebook on steroids: it is free, requires no setup, comes preinstalled with many packages, is easy to share with the world, and benefits from free access to hardware accelerators like GPUs and TPUs (with some caveats).\n",
        "\n",
        "Running this tutorial in Colab is recommended. Todo so, click the Open in Colab badge at the very top of this page. **✔**\n",
        "\n",
        "You also can run this tutorial in Jupyter Notebook in you local computer. If you wish to run the notebook locally with Jupyter, make sure your virtual environment is installed correctly (as per the setup instructions), activate it, then run pip install notebook to install Jupyter notebook. Next, open the notebook and download it to a directory of your choice by right-clicking on the page and selecting Save Page As. Then cd to that directory and run jupyter notebook."
      ],
      "metadata": {
        "id": "uQY2dcD2Wv_z"
      }
    },
    {
      "cell_type": "markdown",
      "metadata": {
        "id": "-WdeWYYz0Jy2"
      },
      "source": [
        "### 0.4 Python Versions\n",
        "\n",
        "As of Janurary 1, 2020, Python has officially dropped support for python2. For this class all code will use Python 3.9 or higher. Ensure you have Python 3.9 or higher is installed on your local computer. You can double-check your Python version at the command line after activating your environment by running the following command:\n",
        "\n",
        "python --version\n",
        "\n",
        "As of January 2025, Google Colab has 3.11.11 installed. **✔**"
      ]
    },
    {
      "cell_type": "code",
      "source": [
        "!python --version"
      ],
      "metadata": {
        "colab": {
          "base_uri": "https://localhost:8080/"
        },
        "id": "F_HaqNhVY80_",
        "outputId": "eec7222f-a2e4-4747-89b0-43dc59d6a610"
      },
      "execution_count": null,
      "outputs": [
        {
          "output_type": "stream",
          "name": "stdout",
          "text": [
            "Python 3.11.11\n"
          ]
        }
      ]
    },
    {
      "cell_type": "markdown",
      "source": [
        "### 0.5 Python Formatting\n",
        "\n",
        "In Python, code blocks are defined by indentation rather than the curly braces commonly used in many other programming languages. The correct use of indentation is crucial as improper indentation will result in errors. **Comments** in Python are marked by the hashtag symbol **(#)**, and colons **(:)** are used to denote the beginning of a new block within various constructs like function definitions and control flow statements such as \"if\", \"for\", and \"while\".\n",
        "\n",
        "- **(#)** Comments\n",
        "- **(: )** is use to end a block like using (;) in Java."
      ],
      "metadata": {
        "id": "Zj_3w6dp7aFa"
      }
    },
    {
      "cell_type": "code",
      "source": [
        "for i in [1, 2, 3, 4, 5]:\n",
        "    # first line in \"for i\" block\n",
        "    print (i)\n",
        "    for j in [1, 2, 3, 4, 5]:\n",
        "        # first line in \"for j\" block\n",
        "        print (j)\n",
        "        # last line in \"for j\" block\n",
        "        print (i + j)\n",
        "        # last line in \"for i\" block print \"done looping\n",
        "        print (i)\n",
        "print(\"done looping\")\n"
      ],
      "metadata": {
        "colab": {
          "base_uri": "https://localhost:8080/"
        },
        "id": "1EP06fO1aLxw",
        "outputId": "b92ec74f-cacc-459a-868c-90421d8cf612"
      },
      "execution_count": null,
      "outputs": [
        {
          "output_type": "stream",
          "name": "stdout",
          "text": [
            "1\n",
            "1\n",
            "2\n",
            "1\n",
            "2\n",
            "3\n",
            "1\n",
            "3\n",
            "4\n",
            "1\n",
            "4\n",
            "5\n",
            "1\n",
            "5\n",
            "6\n",
            "1\n",
            "2\n",
            "1\n",
            "3\n",
            "2\n",
            "2\n",
            "4\n",
            "2\n",
            "3\n",
            "5\n",
            "2\n",
            "4\n",
            "6\n",
            "2\n",
            "5\n",
            "7\n",
            "2\n",
            "3\n",
            "1\n",
            "4\n",
            "3\n",
            "2\n",
            "5\n",
            "3\n",
            "3\n",
            "6\n",
            "3\n",
            "4\n",
            "7\n",
            "3\n",
            "5\n",
            "8\n",
            "3\n",
            "4\n",
            "1\n",
            "5\n",
            "4\n",
            "2\n",
            "6\n",
            "4\n",
            "3\n",
            "7\n",
            "4\n",
            "4\n",
            "8\n",
            "4\n",
            "5\n",
            "9\n",
            "4\n",
            "5\n",
            "1\n",
            "6\n",
            "5\n",
            "2\n",
            "7\n",
            "5\n",
            "3\n",
            "8\n",
            "5\n",
            "4\n",
            "9\n",
            "5\n",
            "5\n",
            "10\n",
            "5\n",
            "done looping\n"
          ]
        }
      ]
    },
    {
      "cell_type": "markdown",
      "source": [
        "Whitespace is ignored inside parenthesis and brackets."
      ],
      "metadata": {
        "id": "K1s3I0ngbPy0"
      }
    },
    {
      "cell_type": "code",
      "source": [
        "long_winded_computation = (1 + 2 + 3 + 4 + 5 + 6 + 7 + 8 + 9 + 10 + 11 + 12+ 13 + 14 + 15 + 16 + 17 + 18 + 19 + 20)\n",
        "\n",
        "list_of_lists = [[1, 2, 3], [4, 5, 6], [7, 8, 9]]\n",
        "\n",
        "easier_to_read_list_of_lists = \\\n",
        " [ [1, 2, 3],\n",
        "  [4, 5, 6],\n",
        "   [7, 8, 9] ]"
      ],
      "metadata": {
        "id": "hLvTva1Dbg80"
      },
      "execution_count": 3,
      "outputs": []
    },
    {
      "cell_type": "markdown",
      "source": [
        "Alternatively:"
      ],
      "metadata": {
        "id": "oF8AVYzob4gC"
      }
    },
    {
      "cell_type": "code",
      "source": [
        "long_winded_computation = 1 + 2 + 3 + 4 + 5 + 6 + 7 + 8 + \\\n",
        "9 + 10 + 11 + 12 + 13 + 14 + \\\n",
        " 15 + 16 + 17 + 18 + 19 + 20\n"
      ],
      "metadata": {
        "id": "deE-tXZ-b6kM"
      },
      "execution_count": 5,
      "outputs": []
    },
    {
      "cell_type": "markdown",
      "source": [
        "### 0.6 Python Modules\n",
        "\n",
        "Certain features of Python are not loaded by default. In order to use these features, you’ll need to import the modules that contain them.\n",
        "\n",
        "Example:"
      ],
      "metadata": {
        "id": "Ajy-IhFdcTMi"
      }
    },
    {
      "cell_type": "code",
      "source": [
        "#Import the Python library called random\n",
        "import random\n",
        "\n",
        "#Import the Python library called numpy and assign it the alias \"np\"\n",
        "import numpy as np\n",
        "\n",
        "#Importing the \"pyplot\" module from the \"matplotlib\" library and assign it the shorter alias \"plt\"\n",
        "import matplotlib.pyplot as plt\n"
      ],
      "metadata": {
        "id": "itxcbBa7cf5Z"
      },
      "execution_count": 7,
      "outputs": []
    },
    {
      "cell_type": "markdown",
      "source": [
        "### 0.7 Python Variables and Objects\n",
        "\n",
        "In Python, variables are created when you assign a value to them for the first time. They do not require an explicit declaration to reserve memory space. The variable is a reference to a memory location where the value is stored. The type of the variable is determined by the Python interpreter at runtime based on the value it is assigned, and not declared explicitly in the code. Types are associated with the actual data objects, not the variables that reference them.\n",
        "\n",
        "Example:"
      ],
      "metadata": {
        "id": "iEnzMd5Mc8Ao"
      }
    },
    {
      "cell_type": "code",
      "source": [
        "X= 5\n",
        "X = [1, 3, 5]\n",
        "X = \"python\"\n",
        "\n",
        "#Assignment creates references, not copies\n",
        "X = [1, 3, 5]\n",
        "Y= X\n",
        "X[0] = 2\n",
        "print(Y) # Y is [2, 3, 5]\n",
        "\n",
        "#You can assign to multiple names at the same time\n",
        "x, y = 2, 3\n",
        "#To swap values\n",
        "x, y = y, x\n",
        "\n",
        "#Assignments can be chained\n",
        "x =y =z =3\n",
        "#Accessing a name before it’s been created (by assignment), raises an error\n"
      ],
      "metadata": {
        "colab": {
          "base_uri": "https://localhost:8080/"
        },
        "id": "bpL1iDuGdmap",
        "outputId": "d7b3a603-d278-4a71-c5c7-6f3257a90cd2"
      },
      "execution_count": 8,
      "outputs": [
        {
          "output_type": "stream",
          "name": "stdout",
          "text": [
            "[2, 3, 5]\n"
          ]
        }
      ]
    },
    {
      "cell_type": "markdown",
      "source": [
        "### 0.8 Arithmetic in Python\n",
        "\n",
        "In Python, the built-in numerical types are int, float and complex.\n",
        "\n",
        "Example:"
      ],
      "metadata": {
        "id": "6MoTEJ0cegDc"
      }
    },
    {
      "cell_type": "code",
      "source": [
        "a =5 + 2\n",
        "print(\"a=\", a)\n",
        "b = 9 - 3\n",
        "print(\"b=\", b)\n",
        "c = 5* 2\n",
        "print(\"c=\", c)\n",
        "d = 5**2\n",
        "print(\"d=\", d)\n",
        "e =5 % 2\n",
        "print(\"e=\", e)\n",
        "\n",
        "f = 7 / 2\n",
        "print(\"f=\", f)\n",
        "f = 7 // 2\n",
        "#floor division or 'math.floor()'\n",
        "print(\"f//=\", f)\n",
        "f = 7 / 2\n",
        "print(\"f=\", f)\n",
        "f = 7 / float(2)\n",
        "print(\"f=\", f)\n",
        "f = int(7 / 2)\n",
        "print(\"f=\", f)\n",
        "\n"
      ],
      "metadata": {
        "colab": {
          "base_uri": "https://localhost:8080/"
        },
        "id": "Nz1E5bQjeyXB",
        "outputId": "dfd83a72-b831-4dbd-c985-2f89a9465b15"
      },
      "execution_count": 10,
      "outputs": [
        {
          "output_type": "stream",
          "name": "stdout",
          "text": [
            "a= 7\n",
            "b= 6\n",
            "c= 10\n",
            "d= 25\n",
            "e= 1\n",
            "f= 3.5\n",
            "f//= 3\n",
            "f= 3.5\n",
            "f= 3.5\n",
            "f= 3\n"
          ]
        }
      ]
    },
    {
      "cell_type": "markdown",
      "source": [
        "### 0.9 Python Strings\n",
        "\n",
        "In Python, Strings can be delimited by matching single or double quotation. Triple quotes are used for multi-line strings.  \n",
        "\n",
        "Example:"
      ],
      "metadata": {
        "id": "gsmISTJ1f0s5"
      }
    },
    {
      "cell_type": "code",
      "source": [
        "single_quoted_string = 'data science'\n",
        "double_quoted_string = \"data science\"\n",
        "escaped_string = 'Isn\\'t this fun'\n",
        "another_string = \"Isn't this fun\"\n",
        "\n",
        "real_long_string = 'this is a really long string. \\\n",
        "It has multiple parts, \\\n",
        "but all in one line.'\n",
        "\n",
        "#Use triple quotes for multi line strings\n",
        "\n",
        "multi_line_string = \"\"\"This is the first line.\n",
        "and this is the second line and this is the third line\"\"\"\n",
        "\n",
        "\n",
        "#Use raw strings to output back slashes\n",
        "tab_string = \"\\t\" # represents the tab character\n",
        "len(tab_string)  # is 1\n",
        "\n",
        "not_tab_string = r\"\\t\" # represents the characters '\\' and 't’\n",
        "len(not_tab_string)  # is 2\n",
        "\n",
        "#Strings can be concatenated (glued together) with the + operator, and repeated with *\n",
        "s = 3 * 'un' + 'ium' # s is 'unununium’\n",
        "\n",
        "#Two or more string literals (i.e. the ones enclosed between quotes) next to each other are automatically concatenated\n",
        "s1 = 'Py' 'thon'\n",
        "s2 = s1 + '3.8'\n",
        "real_long_string = ('this is a really long string. ' 'It has multiple parts', 'but all in one line.')\n",
        "\n"
      ],
      "metadata": {
        "id": "JkaQhlTOgIUJ"
      },
      "execution_count": null,
      "outputs": []
    },
    {
      "cell_type": "markdown",
      "source": [
        "### 0.10 Python List\n",
        "\n",
        "A list in Python is a built-in data structure that can hold a collection of items. These items can be of different data types including integers, strings, tuples, other lists, and more. Lists are ordered, meaning that the items have a defined order that will not change, and they are mutable, which means that you can change their content without changing their identity. Here are some key points about lists in Python:\n",
        "\n",
        "Ordered: The items in a list appear in a specific order. You can use the order to access items using an index.\n",
        "\n",
        "Mutable: You can add, remove, or change items in a list after it has been created.\n",
        "\n",
        "Dynamic: Lists can grow or shrink in size as items are added or removed.\n",
        "\n",
        "Versatile: Lists can contain items of different types, including other lists, which means they can be nested.\n",
        "\n",
        "Indexable: Each item in a list is associated with an index, which you can use to access that item.\n",
        "\n",
        "Slicable: Lists can be sliced, which means you can get a new list containing a portion of the items.\n",
        "\n",
        "Supports Multiple Methods: Python lists have a variety of methods available that allow you to manipulate them, such as append(), remove(), pop(), reverse(), and sort(), among others.\n",
        "\n",
        "\n",
        "Example:"
      ],
      "metadata": {
        "id": "IoEa02RrhHln"
      }
    },
    {
      "cell_type": "code",
      "source": [
        "my_list = [1, \"Hello\", 3.14]  # A list with an integer, a string, and a float\n",
        "my_list.append(\"Python\")       # Adding an item to the end of the list\n",
        "print(my_list[1])              # Accessing the item at index 1 - outputs \"Hello\"\n",
        "my_list[1] = \"World\"           # Changing the item at index 1\n",
        "del my_list[2]                 # Deleting the item at index 2\n",
        "\n",
        "integer_list = [1, 2, 3]\n",
        "heterogeneous_list = [\"string\", 0.1, True]\n",
        "list_of_lists = [ integer_list, heterogeneous_list, [] ]\n",
        "list_length = len(integer_list) # equals 3\n",
        "list_sum = sum(integer_list)  # equals 6\n",
        "\n",
        "#Get the i-th element of a list\n",
        "x = [i for i in range(10)] # is the list [0, 1, ..., 9]\n",
        "zero = x[0]   # equals 0, lists are 0-indexed\n",
        "one = x[1]    # equals 1\n",
        "nine = x[-1]  # equals 9, 'Pythonic' for last element\n",
        "eight = x[-2] # equals 8, 'Pythonic' for next-to-last element\n",
        "#Get a slice of a list\n",
        "one_to_four = x[1:5]  # [1, 2, 3, 4]\n",
        "first_three = x[:3]   # [0, 1, 2]\n",
        "last_three = x[-3:]   # [7, 8, 9]\n",
        "three_to_end = x[3:]  # [3, 4, ..., 9]\n",
        "without_first_and_last = x[1:-1] # [1, 2, ..., 8]\n",
        "copy_of_x = x[:]  # [0, 1, 2, ..., 9]\n",
        "another_copy_of_x = x[:3] + x[3:]  # [0, 1, 2, ..., 9]\n",
        "\n",
        "#Check for memberships\n",
        "1 in [1, 2, 3] # True\n",
        "0 in [1, 2, 3] # False\n",
        "\n",
        "#Concatenate lists\n",
        "x = [1, 2, 3]\n",
        "y = [4, 5, 6]\n",
        "x.extend(y) # x is now [1,2,3,4,5,6]\n",
        "\n",
        "x = [1, 2, 3]\n",
        "y = [4, 5, 6]\n",
        "z = x + y  # z is [1,2,3,4,5,6]; x is unchanged.\n",
        "\n",
        "#List unpacking (multiple assignment)\n",
        "x, y = [1, 2] # x is 1 and y is 2\n",
        "[x, y] = 1, 2 # same as above\n",
        "x, y = [1, 2] # same as above\n",
        "x, y = 1, 2   # same as above\n",
        "_, y = [1, 2] # y is 2, didn't care about the first element\n",
        "\n",
        "\n",
        "#Modify content of list\n",
        "x = [0, 1, 2, 3, 4, 5, 6, 7, 8]\n",
        "x[2] = x[2] * 2     # x is [0, 1, 4, 3, 4, 5, 6, 7, 8]\n",
        "x[-1] = 0           # x is [0, 1, 4, 3, 4, 5, 6, 7, 0]\n",
        "x[3:5] = x[3:5] * 3 # x is [0, 1, 4, 9, 12, 5, 6, 7, 0]\n",
        "x[5:6] = []          # x is [0, 1, 4, 9, 12, 7, 0]\n",
        "del x[:2]           # x is [4, 9, 12, 7, 0]\n",
        "del x[:]            # x is [ ]\n",
        "del x               # referencing to x hereafter is a NameError\n",
        "\n",
        "#Strings can also be sliced. But they cannot modified (they are immutable)\n",
        "s = 'abcdefg'\n",
        "a = s[0]           # ‘a’\n",
        "x = s[:2]         # ‘ab’\n",
        "y = s[-3:]        # ‘efg’\n",
        "s[:2] = 'AB'      # this will cause an error\n",
        "s = 'AB' + s[2:]  # str is now ABcdefg"
      ],
      "metadata": {
        "colab": {
          "base_uri": "https://localhost:8080/",
          "height": 216
        },
        "id": "i1s9CoC_hedv",
        "outputId": "78569315-b04d-4cad-c36d-5c6f9870dd9f"
      },
      "execution_count": null,
      "outputs": [
        {
          "output_type": "stream",
          "name": "stdout",
          "text": [
            "Hello\n"
          ]
        },
        {
          "output_type": "error",
          "ename": "TypeError",
          "evalue": "'str' object does not support item assignment",
          "traceback": [
            "\u001b[0;31m---------------------------------------------------------------------------\u001b[0m",
            "\u001b[0;31mTypeError\u001b[0m                                 Traceback (most recent call last)",
            "\u001b[0;32m<ipython-input-22-d3c9ac8a2db4>\u001b[0m in \u001b[0;36m<cell line: 0>\u001b[0;34m()\u001b[0m\n\u001b[1;32m     62\u001b[0m \u001b[0mx\u001b[0m \u001b[0;34m=\u001b[0m \u001b[0ms\u001b[0m\u001b[0;34m[\u001b[0m\u001b[0;34m:\u001b[0m\u001b[0;36m2\u001b[0m\u001b[0;34m]\u001b[0m         \u001b[0;31m# ‘ab’\u001b[0m\u001b[0;34m\u001b[0m\u001b[0;34m\u001b[0m\u001b[0m\n\u001b[1;32m     63\u001b[0m \u001b[0my\u001b[0m \u001b[0;34m=\u001b[0m \u001b[0ms\u001b[0m\u001b[0;34m[\u001b[0m\u001b[0;34m-\u001b[0m\u001b[0;36m3\u001b[0m\u001b[0;34m:\u001b[0m\u001b[0;34m]\u001b[0m        \u001b[0;31m# ‘efg’\u001b[0m\u001b[0;34m\u001b[0m\u001b[0;34m\u001b[0m\u001b[0m\n\u001b[0;32m---> 64\u001b[0;31m \u001b[0ms\u001b[0m\u001b[0;34m[\u001b[0m\u001b[0;34m:\u001b[0m\u001b[0;36m2\u001b[0m\u001b[0;34m]\u001b[0m \u001b[0;34m=\u001b[0m \u001b[0;34m'AB'\u001b[0m      \u001b[0;31m# this will cause an error\u001b[0m\u001b[0;34m\u001b[0m\u001b[0;34m\u001b[0m\u001b[0m\n\u001b[0m\u001b[1;32m     65\u001b[0m \u001b[0ms\u001b[0m \u001b[0;34m=\u001b[0m \u001b[0;34m'AB'\u001b[0m \u001b[0;34m+\u001b[0m \u001b[0ms\u001b[0m\u001b[0;34m[\u001b[0m\u001b[0;36m2\u001b[0m\u001b[0;34m:\u001b[0m\u001b[0;34m]\u001b[0m  \u001b[0;31m# str is now ABcdefg\u001b[0m\u001b[0;34m\u001b[0m\u001b[0;34m\u001b[0m\u001b[0m\n",
            "\u001b[0;31mTypeError\u001b[0m: 'str' object does not support item assignment"
          ]
        }
      ]
    },
    {
      "cell_type": "markdown",
      "source": [
        "### 0.11 The range() Function\n",
        "\n",
        "\n",
        "The range() function in Python is a built-in function that generates a sequence of numbers. It is often used for iterating over with loops, especially for loops. The range() function is particularly useful because it generates the required sequence of numbers on-the-fly (lazily), instead of storing them all in memory at once. This makes it very memory efficient when dealing with large ranges.\n",
        "\n",
        "Example:"
      ],
      "metadata": {
        "id": "NgUgAOM6ipla"
      }
    },
    {
      "cell_type": "code",
      "source": [
        "for i in range(5):\n",
        "    print (i)  # will print 0, 1, 2, 3, 4 (in separate lines)\n",
        "for i in range(2, 5):\n",
        "\tprint (i)  # will print 2, 3, 4\n",
        "for i in range(0, 10, 2):\n",
        "\tprint (i)  # will print 0, 2, 4, 6, 8\n",
        "for i in range(10, 2, -2):\n",
        "\tprint (i)  # will print 10, 8, 6, 4\n"
      ],
      "metadata": {
        "colab": {
          "base_uri": "https://localhost:8080/"
        },
        "id": "AQt06tGfjEmT",
        "outputId": "f6bb9036-caac-41fe-868a-c9d97a674bdb"
      },
      "execution_count": null,
      "outputs": [
        {
          "output_type": "stream",
          "name": "stdout",
          "text": [
            "0\n",
            "1\n",
            "2\n",
            "3\n",
            "4\n",
            "2\n",
            "3\n",
            "4\n",
            "0\n",
            "2\n",
            "4\n",
            "6\n",
            "8\n",
            "10\n",
            "8\n",
            "6\n",
            "4\n"
          ]
        }
      ]
    },
    {
      "cell_type": "code",
      "source": [
        "a = ['Mary', 'had', 'a', 'little', 'lamb']\n",
        "for i in range(len(a)):\n",
        "    print(i, a[i])\n",
        "\n",
        "#In python 3, range(5) is an object which can be iterated, but not identical to [0, 1, 2, 3, 4] (lazy iterator)\n",
        "print (range(3))     # in python 3, will see \"range(0, 3)\"\n",
        "print (list(range(3)))   # will print [0, 1, 2] in python 3\n",
        "\n",
        "\n",
        "x = range(5)\n",
        "print (x[2])  # in python 3, this will print “2”\n",
        "x[2] = 5      # in python 3, will cause an error.\n"
      ],
      "metadata": {
        "id": "so-thpmOjOh_"
      },
      "execution_count": null,
      "outputs": []
    },
    {
      "cell_type": "code",
      "source": [
        "#Ref to lists\n",
        "a = list(range(10))\n",
        "b=a\n",
        "b[0] = 100\n",
        "print(a)\n",
        "\n",
        "a = list(range(10))\n",
        "b = a[:]\n",
        "b[0] = 100\n",
        "print(a)\n"
      ],
      "metadata": {
        "id": "OKKk_PIUkaQ9"
      },
      "execution_count": null,
      "outputs": []
    },
    {
      "cell_type": "markdown",
      "source": [
        "### 0.12 Python Tuples\n",
        "\n",
        "A tuple in Python is a built-in data structure that is similar to a list, with the key difference being that tuples are immutable. This means that once a tuple is created, its contents cannot be altered, which includes adding, removing, or modifying the elements.\n",
        "\n",
        "Example:"
      ],
      "metadata": {
        "id": "eoWiorK9k1aG"
      }
    },
    {
      "cell_type": "code",
      "source": [
        "my_tuple = (1, \"Hello\", 3.14)\n",
        "print(my_tuple[1])  # Accessing the second element, outputs: Hello\n",
        "\n",
        "# Tuples can be nested\n",
        "nested_tuple = (my_tuple, (5, 6, 7))\n",
        "print(nested_tuple[1])  # Accessing the second element, which is another tuple, outputs: (5, 6, 7)\n",
        "\n",
        "# Trying to alter a tuple will result in a TypeError\n",
        "# my_tuple[1] = \"World\"  # Uncommenting this line will cause an error\n",
        "\n",
        "a_tuple = (0, 1, 2, 3, 4)\n",
        "Other_tuple = 3, 4\n",
        "Another_tuple = tuple([0, 1, 2, 3, 4])\n",
        "Hetergeneous_tuple = ('john', 1.1, [1, 2])\n",
        "\n",
        "#Note: tuple is defined by comma, not parentheses, which is only used for convenience. So a = (1) is not a tuple, but a = (1,) is.\n",
        "\n",
        "#Can be sliced, concatenated, or repeated\n",
        "print(a_tuple[2:4]) # will print (2, 3)\n",
        "\n",
        "#Cannot be modified (immutable!)\n",
        "a_tuple[2] = 5 # generates error => Type Error: 'tuple' object does not support item assignment\n",
        "\n"
      ],
      "metadata": {
        "id": "MuAZlxcAlLBs"
      },
      "execution_count": null,
      "outputs": []
    },
    {
      "cell_type": "code",
      "source": [
        "#Useful for returning multiple values from functions\n",
        "def sum_and_product(x, y):\n",
        "    return (x + y),(x * y)\n",
        "\n",
        "sp = sum_and_product(2, 3)     # equals (5, 6)\n",
        "s, p = sum_and_product(5, 10)  # s is 15, p is 50\n",
        "\n",
        "#Tuples and lists can also be used for multiple assignments\n",
        "x, y = 1, 2\n",
        "[x, y] = [1, 2]\n",
        "(x, y) = (1, 2)\n",
        "x, y = y, x"
      ],
      "metadata": {
        "id": "miGVrVt5lwI8"
      },
      "execution_count": null,
      "outputs": []
    },
    {
      "cell_type": "markdown",
      "source": [
        "### 0.13 Python Dictionaries\n",
        "\n",
        "Dictionaries in Python are a built-in data structure that store collections of key-value pairs. Each key is connected to a value, allowing you to create a pair of associated information. Dictionaries are mutable, meaning you can add, remove, and modify their key-value pairs. They are also dynamic and can grow or shrink as needed.\n",
        "\n",
        "Example:"
      ],
      "metadata": {
        "id": "vxwCRYc8l4An"
      }
    },
    {
      "cell_type": "code",
      "source": [
        "# Creating a dictionary\n",
        "my_dict = {\n",
        "    'name': 'Alice',\n",
        "    'age': 25,\n",
        "    'is_student': True\n",
        "}\n",
        "\n",
        "# Accessing a value by key\n",
        "print(my_dict['name'])  # Outputs: Alice\n",
        "\n",
        "# Adding a new key-value pair\n",
        "my_dict['city'] = 'New York'\n",
        "\n",
        "# Modifying an existing key-value pair\n",
        "my_dict['age'] = 26\n",
        "\n",
        "# Removing a key-value pair\n",
        "del my_dict['is_student']\n",
        "\n",
        "# Using methods to work with dictionaries\n",
        "keys = my_dict.keys()  # Getting all keys\n",
        "values = my_dict.values()  # Getting all values\n",
        "items = my_dict.items()  # Getting all key-value pairs\n",
        "\n",
        "\n",
        "#A dictionary associates values with unique keys\n",
        "empty_dict = {}                       # Pythonic\n",
        "empty_dict2 = dict()                  # less Pythonic\n",
        "grades = { \"Joel\" : 80, \"Tim\" : 95 }  # dictionary literal\n",
        "\n",
        "#Access/modify value with key\n",
        "joels_grade = grades[\"Joel\"]        # equals 80\n",
        "\n",
        "grades[\"Tim\"] = 99                  # replaces the old value\n",
        "grades[\"Kate\"] = 100                # adds a third entry\n",
        "num_students = len(grades)          # equals 3\n",
        "\n",
        "try:\n",
        "    kates_grade = grades[\"Kate\"]\n",
        "except KeyError:\n",
        "\tprint(\"no grade for Kate!\")"
      ],
      "metadata": {
        "id": "qBk0mD5bmK-b"
      },
      "execution_count": null,
      "outputs": []
    },
    {
      "cell_type": "markdown",
      "source": [
        "### 0.14 Python Control Flow\n",
        "\n",
        "Example:"
      ],
      "metadata": {
        "id": "iPJ9geYYockx"
      }
    },
    {
      "cell_type": "code",
      "source": [
        "#if-else\n",
        "if 1 > 2:\n",
        "    message = \"if only 1 were greater than two...\"\n",
        "elif 1 > 3:\n",
        "    message = \"elif stands for 'else if'\"\n",
        "else:\n",
        "    message = \"when all else fails use else (if you want to)\"\n",
        "print(message)\n",
        "\n",
        "#for loop: used to iterate over a sequence (such as a list, tuple, dictionary, set, or string) or any other iterable object.\n",
        "# Iterating over a list\n",
        "fruits = ['apple', 'banana', 'cherry']\n",
        "for fruit in fruits:\n",
        "    print(fruit)\n",
        "\n",
        "# Using the range() function\n",
        "for i in range(5):  # Prints numbers from 0 to 4\n",
        "    print(i)\n",
        "\n",
        "# Iterating over a dictionary\n",
        "person = {'name': 'John', 'age': 30}\n",
        "for key in person:\n",
        "    print(f\"{key}: {person[key]}\")\n",
        "\n",
        "# Nested for loop\n",
        "for i in range(2):  # Outer loop\n",
        "    for j in range(3):  # Inner loop\n",
        "        print(f\"i: {i}, j: {j}\")\n",
        "\n",
        "#while loop: used to execute a block of code as long as a condition is True.\n",
        "# Basic while loop\n",
        "count = 0\n",
        "while count < 5:\n",
        "    print(count)\n",
        "    count += 1  # Important to modify the loop variable\n",
        "\n",
        "# Using else with while loop\n",
        "n = 0\n",
        "while n < 3:\n",
        "    print(f\"n is {n}\")\n",
        "    n += 1\n",
        "else:\n",
        "    print(\"Condition is no longer true\")\n",
        "\n",
        "# Infinite loop with break statement\n",
        "while True:\n",
        "    response = input(\"Type 'exit' to break the loop: \")\n",
        "    if response == 'exit':\n",
        "        break\n",
        "    print(f\"You typed {response}.\")\n",
        "\n"
      ],
      "metadata": {
        "colab": {
          "base_uri": "https://localhost:8080/"
        },
        "id": "7Y5bTFwzmptu",
        "outputId": "28ae0b85-b66d-424a-eab5-3ba89ffffba2"
      },
      "execution_count": null,
      "outputs": [
        {
          "metadata": {
            "tags": null
          },
          "name": "stdout",
          "output_type": "stream",
          "text": [
            "when all else fails use else (if you want to)\n",
            "apple\n",
            "banana\n",
            "cherry\n",
            "0\n",
            "1\n",
            "2\n",
            "3\n",
            "4\n",
            "name: John\n",
            "age: 30\n",
            "i: 0, j: 0\n",
            "i: 0, j: 1\n",
            "i: 0, j: 2\n",
            "i: 1, j: 0\n",
            "i: 1, j: 1\n",
            "i: 1, j: 2\n",
            "0\n",
            "1\n",
            "2\n",
            "3\n",
            "4\n",
            "n is 0\n",
            "n is 1\n",
            "n is 2\n",
            "Condition is no longer true\n"
          ]
        }
      ]
    },
    {
      "cell_type": "code",
      "source": [
        "#The \"break\" statement terminates the loop entirely and proceeds to the code immediately following the loop.\n",
        "# Using break to exit the loop when a condition is met\n",
        "for number in range(1, 10):\n",
        "    if number == 5:\n",
        "        break  # Exit the loop when number is 5\n",
        "    print(number)\n",
        "print(\"Loop ended with break.\")\n",
        "\n",
        "#The continue statement skips the current iteration of the loop and proceeds to the next iteration.\n",
        "# Using continue to skip an iteration\n",
        "for number in range(1, 6):\n",
        "    if number == 3:\n",
        "        continue  # Skip the rest of the loop for number 3\n",
        "    print(number)\n",
        "\n",
        "#The pass statement does nothing. It acts as a placeholder, allowing you to define an empty loop or a condition block.\n",
        "# Using pass as a placeholder\n",
        "for number in range(1, 6):\n",
        "    if number == 3:\n",
        "        pass  # Does nothing, just a placeholder\n",
        "    else:\n",
        "        print(number)\n",
        "\n"
      ],
      "metadata": {
        "id": "jJtBndXdd1Pq",
        "colab": {
          "base_uri": "https://localhost:8080/"
        },
        "outputId": "40dec7f1-dc4f-4072-9bcd-c6688c36c20b"
      },
      "execution_count": null,
      "outputs": [
        {
          "output_type": "stream",
          "name": "stdout",
          "text": [
            "1\n",
            "2\n",
            "3\n",
            "4\n",
            "Loop ended with break.\n",
            "1\n",
            "2\n",
            "4\n",
            "5\n",
            "1\n",
            "2\n",
            "4\n",
            "5\n"
          ]
        }
      ]
    },
    {
      "cell_type": "markdown",
      "source": [
        "### 0.15 Truthiness in Python\n",
        "\n",
        "In Python, \"truthiness\" refers to the truth value of an object in a boolean context, such as in conditionals and loops. Every object in Python has an associated truth value:\n",
        "\n",
        "Most objects are considered \"true\" in a boolean context.\n",
        "Some objects are considered \"false\" in a boolean context, such as:\n",
        "None\n",
        "False\n",
        "Zero of any numeric type: 0, 0.0, 0j\n",
        "Empty sequences and collections: '' (empty string), () (empty tuple), [] (empty list), {} (empty dictionary), set() (empty set)\n",
        "\n",
        "Example:\n"
      ],
      "metadata": {
        "id": "YhkeKsq1pWyU"
      }
    },
    {
      "cell_type": "code",
      "source": [
        "# Example of truthy values\n",
        "\n",
        "if 10:  # 10 is truthy\n",
        "    print(\"Numeric types are 'truthy' except 0.\")\n",
        "\n",
        "if \"Hello\":  # Non-empty string is truthy\n",
        "    print(\"Non-empty strings are 'truthy'.\")\n",
        "\n",
        "if [1, 2, 3]:  # Non-empty list is truthy\n",
        "    print(\"Non-empty lists are 'truthy'.\")\n",
        "\n",
        "# Example of falsy values\n",
        "\n",
        "if 0:  # 0 is falsy\n",
        "    print(\"This will not print because 0 is 'falsy'.\")\n",
        "\n",
        "if \"\":  # Empty string is falsy\n",
        "    print(\"This will not print because an empty string is 'falsy'.\")\n",
        "\n",
        "if not []:  # Empty list is falsy\n",
        "    print(\"Empty lists are 'falsy', so this will print.\")\n",
        "\n",
        "if not None:  # None is always falsy\n",
        "    print(\"None is also 'falsy'.\")\n"
      ],
      "metadata": {
        "id": "zILsNkkM7itV",
        "outputId": "d3553b66-83e3-4005-c64e-128924cc6810",
        "colab": {
          "base_uri": "https://localhost:8080/"
        }
      },
      "execution_count": null,
      "outputs": [
        {
          "output_type": "stream",
          "name": "stdout",
          "text": [
            "Numeric types are 'truthy' except 0.\n",
            "Non-empty strings are 'truthy'.\n",
            "Non-empty lists are 'truthy'.\n",
            "Empty lists are 'falsy', so this will print.\n",
            "None is also 'falsy'.\n"
          ]
        }
      ]
    },
    {
      "cell_type": "markdown",
      "source": [
        "### 0.15 Comparison in Python\n",
        "\n",
        "Comparison operators in Python are used to compare two values. Here's a list of the comparison operators and their meanings:\n",
        "\n",
        "**== **(Equal to): Checks if the values of two operands are equal.\n",
        "\n",
        "**!= **(Not equal to): Checks if the values of two operands are not equal.\n",
        "\n",
        "**>** (Greater than): Checks if the value of the left operand is greater than the value of the right operand.\n",
        "\n",
        "**<** (Less than): Checks if the value of the left operand is less than the value of the right operand.\n",
        "\n",
        "**>=** (Greater than or equal to): Checks if the value of the left operand is greater than or equal to the value of the right operand.\n",
        "\n",
        "**<=** (Less than or equal to): Checks if the value of the left operand is less than or equal to the value of the right operand.\n",
        "\n",
        "**is**: Evaluates to True if two variables point to the same object.\n",
        "**is not**: Evaluates to True if two variables DO NOT point to the same object.\n",
        "\n",
        "Example:\n"
      ],
      "metadata": {
        "id": "Eq7LsT6xaMSN"
      }
    },
    {
      "cell_type": "code",
      "source": [
        "# Equal to ==\n",
        "print(5 == 5)  # True\n",
        "print(5 == 3)  # False\n",
        "\n",
        "# Not equal to !=\n",
        "print(5 != 5)  # False\n",
        "print(5 != 3)  # True\n",
        "\n",
        "# Greater than >\n",
        "print(5 > 3)  # True\n",
        "print(3 > 5)  # False\n",
        "\n",
        "# Less than <\n",
        "print(3 < 5)  # True\n",
        "print(5 < 3)  # False\n",
        "\n",
        "# Greater than or equal to >=\n",
        "print(5 >= 5)  # True\n",
        "print(5 >= 3)  # True\n",
        "print(3 >= 5)  # False\n",
        "\n",
        "# Less than or equal to <=\n",
        "print(3 <= 5)  # True\n",
        "print(5 <= 5)  # True\n",
        "print(5 <= 3)  # False\n",
        "\n",
        "\n",
        "# Example of 'is' operator\n",
        "a = [1, 2, 3]\n",
        "b = a  # b is referencing the same list as a\n",
        "c = [1, 2, 3]  # c is referencing a new list that happens to have the same values as a\n",
        "\n",
        "print(a is b)  # True because both variables point to the same object\n",
        "print(a is c)  # False because c is a different object with the same content\n",
        "\n",
        "# Example of 'is not' operator\n",
        "x = \"Hello\"\n",
        "y = \"Hello\"\n",
        "z = \"Goodbye\"\n",
        "\n",
        "print(x is not y)  # False because x and y point to the same string object\n",
        "print(x is not z)  # True because x and z point to different string objects\n"
      ],
      "metadata": {
        "colab": {
          "base_uri": "https://localhost:8080/"
        },
        "id": "e_MNbSpga7iV",
        "outputId": "87715ddd-775c-4248-d423-31787b44b425"
      },
      "execution_count": null,
      "outputs": [
        {
          "output_type": "stream",
          "name": "stdout",
          "text": [
            "True\n",
            "False\n",
            "False\n",
            "True\n",
            "True\n",
            "False\n",
            "True\n",
            "False\n",
            "True\n",
            "True\n",
            "False\n",
            "True\n",
            "True\n",
            "False\n",
            "True\n",
            "False\n",
            "False\n",
            "True\n"
          ]
        }
      ]
    },
    {
      "cell_type": "markdown",
      "source": [
        "### 0.16 Exceptions in Python\n",
        "\n",
        "Exceptions in Python are errors detected during execution that interrupt the normal flow of a program. When Python script encounters a situation that it cannot cope with, it raises an exception. An unhandled exception will cause the program to terminate abruptly. Python provides a way to handle the exception gracefully using try-except blocks, allowing the programmer to respond to different error conditions or clean up resources before the program exits.\n",
        "\n",
        "**Key Concepts:**\n",
        "*Try* Block: The code that could potentially cause an exception is placed inside a try block.\n",
        "*Except* Block: Code that handles the exception is written inside an except block. You can define different except blocks for different exception types.\n",
        "*Finally* Block: (Optional) A finally block contains code that runs no matter what, typically for cleaning up resources, like closing files or network connections.\n",
        "\n",
        "Example:\n"
      ],
      "metadata": {
        "id": "7VRr2hOSegCm"
      }
    },
    {
      "cell_type": "code",
      "source": [
        "try:\n",
        "    # Code block where exceptions can occur\n",
        "    result = 10 / 0\n",
        "except ZeroDivisionError:\n",
        "    # Handling the exception\n",
        "    print(\"Divided by zero!\")\n",
        "else:\n",
        "    # Executed if the try block succeeds\n",
        "    print(\"Division successful!\")\n",
        "finally:\n",
        "    # Always executed\n",
        "    print(\"Execution completed, with or without exceptions.\")\n"
      ],
      "metadata": {
        "colab": {
          "base_uri": "https://localhost:8080/"
        },
        "id": "MoVMuPMYe0fu",
        "outputId": "146769d9-9628-4edf-fc6f-8d9ff0c4d754"
      },
      "execution_count": null,
      "outputs": [
        {
          "output_type": "stream",
          "name": "stdout",
          "text": [
            "Divided by zero!\n",
            "Execution completed, with or without exceptions.\n"
          ]
        }
      ]
    },
    {
      "cell_type": "markdown",
      "source": [
        "### 0.17 Summary  \n",
        "\n",
        "In this chapter, you've learned and reviewed basic concepts in Python.\n"
      ],
      "metadata": {
        "id": "zUBl2EVb76LN"
      }
    }
  ],
  "metadata": {
    "anaconda-cloud": {},
    "kernelspec": {
      "display_name": "Python 3",
      "language": "python",
      "name": "python3"
    },
    "language_info": {
      "codemirror_mode": {
        "name": "ipython",
        "version": 3
      },
      "file_extension": ".py",
      "mimetype": "text/x-python",
      "name": "python",
      "nbconvert_exporter": "python",
      "pygments_lexer": "ipython3",
      "version": "3.5.1"
    },
    "colab": {
      "provenance": [],
      "toc_visible": true,
      "include_colab_link": true
    }
  },
  "nbformat": 4,
  "nbformat_minor": 0
}
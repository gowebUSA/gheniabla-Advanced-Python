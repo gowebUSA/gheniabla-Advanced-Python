{
  "cells": [
    {
      "cell_type": "markdown",
      "metadata": {
        "id": "view-in-github",
        "colab_type": "text"
      },
      "source": [
        "<a href=\"https://colab.research.google.com/github/gowebUSA/gheniabla-Advanced-Python/blob/main/chapter0-part2.ipynb\" target=\"_parent\"><img src=\"https://colab.research.google.com/assets/colab-badge.svg\" alt=\"Open In Colab\"/></a>"
      ]
    },
    {
      "cell_type": "markdown",
      "metadata": {
        "id": "LlkvSiA70Jyz"
      },
      "source": [
        "\n",
        "# Chapter 0-part2 - Python Language Basics - Part 2"
      ]
    },
    {
      "cell_type": "markdown",
      "metadata": {
        "id": "-WdeWYYz0Jy2"
      },
      "source": [
        "### 0.20 Python Functions\n",
        "\n",
        "Python functions allow you to encapsulate a block of code for reuse. Functions enable modular programming, making code more organized, readable, maintainable, and testable.\n",
        "\n",
        "**Function definition:** A Python function is defined using the *def* keyword, followed by a function name with parentheses and a colon. Inside the parentheses, you can define parameters through which you can pass data into the function. The function body contains the code block that performs the operation.\n",
        "\n",
        "**Calling a function:** To execute a function, you call it by its name followed by parentheses. If the function expects parameters, you provide the arguments inside the parentheses.\n",
        "\n",
        "You can call a function after it is defined.\n",
        "\n",
        "**Parameters** are variables listed inside the parentheses in the function definition.\n",
        "**Arguments** are the values you pass to the function when you call it.\n",
        "Parameters can be positional, keyword, or a mix of both. Python also supports default parameter values, variable-length arguments (*args for non-keyword arguments, **kwargs for keyword arguments).\n",
        "\n",
        "A function can return a value back to the caller using the return statement.\n"
      ]
    },
    {
      "cell_type": "code",
      "source": [
        "#define \"add\" function\n",
        "def add(a, b):\n",
        "    return a + b\n",
        "\n",
        "\n",
        "#call the \"add\" function\n",
        "c = add(4,5)\n",
        "\n",
        "print(c)\n"
      ],
      "metadata": {
        "id": "Si7R9OJXZbe2",
        "outputId": "ce6c5c31-7062-424d-e70d-65e79d2ebc03",
        "colab": {
          "base_uri": "https://localhost:8080/"
        }
      },
      "execution_count": null,
      "outputs": [
        {
          "output_type": "stream",
          "name": "stdout",
          "text": [
            "9\n"
          ]
        }
      ]
    },
    {
      "cell_type": "markdown",
      "source": [
        "If no return statement is used in the function, the function returns None by default.\n",
        "\n",
        "Example:"
      ],
      "metadata": {
        "id": "lkd8LlQvl-_W"
      }
    },
    {
      "cell_type": "code",
      "source": [
        "#define \"hello_world\" function\n",
        "def hello_world():\n",
        "    print(\"Hello World!\")\n",
        "\n",
        "#define \"hello\" function\n",
        "def hello(name):\n",
        "    print(\"Hello! \", name)\n",
        "\n",
        "#call the hello_world() function\n",
        "hello_world()\n",
        "\n",
        "#call the hello() function\n",
        "hello(\"California\")\n"
      ],
      "metadata": {
        "id": "zRUB4MOomJFm",
        "outputId": "319d38cc-afdb-48e9-f004-de82acb2a3fc",
        "colab": {
          "base_uri": "https://localhost:8080/"
        }
      },
      "execution_count": null,
      "outputs": [
        {
          "output_type": "stream",
          "name": "stdout",
          "text": [
            "Hello World!\n",
            "Hello!  California\n"
          ]
        }
      ]
    },
    {
      "cell_type": "markdown",
      "source": [
        "**Docstrings** provide a way to document functions, describing what the function does, its parameters, and its return value. They are defined inside triple quotes at the beginning of the function body.\n",
        "\n",
        "Example:"
      ],
      "metadata": {
        "id": "dvxVf8O7hyuF"
      }
    },
    {
      "cell_type": "code",
      "source": [
        "def my_function():\n",
        "    \"\"\"This is a docstring.\"\"\"\n",
        "    pass\n",
        "\n",
        ""
      ],
      "metadata": {
        "id": "NpkBgDEph4dz"
      },
      "execution_count": 3,
      "outputs": []
    },
    {
      "cell_type": "markdown",
      "source": [
        "Function parameters allow functions to receive data for processing. There are several types of function parameters, each serving a different purpose and allowing for more flexible function definitions. Here's an overview of the types of function parameters in Python:\n",
        "\n",
        "**Positional Parameters:** These are the most common type of parameters, where the order in which the arguments are passed matters. The first argument passed to the function fills the first parameter, the second argument fills the second parameter, and so on.\n",
        "\n",
        "Example:\n"
      ],
      "metadata": {
        "id": "ugx913uxilU6"
      }
    },
    {
      "cell_type": "code",
      "source": [
        "def multiply(a, b):\n",
        "    # Code block\n",
        "    return a * b\n",
        "\n",
        "multiply(a=5, b=4)  #RGO\n"
      ],
      "metadata": {
        "id": "G7TJTsrLiwu9",
        "outputId": "7a658a2e-3303-40b5-9a08-bf4c83fe6062",
        "colab": {
          "base_uri": "https://localhost:8080/"
        }
      },
      "execution_count": 12,
      "outputs": [
        {
          "output_type": "execute_result",
          "data": {
            "text/plain": [
              "20"
            ]
          },
          "metadata": {},
          "execution_count": 12
        }
      ]
    },
    {
      "cell_type": "markdown",
      "source": [
        "**Keyword Parameters:** Arguments can be passed to functions using the names of the parameters, regardless of their order. This is useful for improving code readability and for functions with many parameters.\n",
        "\n",
        "Example:"
      ],
      "metadata": {
        "id": "63iWautsjLkd"
      }
    },
    {
      "cell_type": "code",
      "source": [
        "def divide(a, b):\n",
        "    # Code block\n",
        "    return a / b\n",
        "\n",
        "divide(b=2, a=1)  # Order does not matter\n"
      ],
      "metadata": {
        "id": "pGJ4PEOhjbxj",
        "outputId": "8e273f55-3b1c-47a3-8cfd-49634eaef765",
        "colab": {
          "base_uri": "https://localhost:8080/"
        }
      },
      "execution_count": null,
      "outputs": [
        {
          "output_type": "execute_result",
          "data": {
            "text/plain": [
              "0.5"
            ]
          },
          "metadata": {},
          "execution_count": 6
        }
      ]
    },
    {
      "cell_type": "markdown",
      "source": [
        "**Default Parameters:** Parameters can have default values. If an argument for such a parameter is not provided when the function is called, the default value is used.\n",
        "\n",
        "Example:"
      ],
      "metadata": {
        "id": "F3pUwSBVjtpl"
      }
    },
    {
      "cell_type": "code",
      "source": [
        "def increase(a, b=1):\n",
        "    # Code block\n",
        "    return a + b\n",
        "\n",
        "result = increase(a=5)  # Only 'a' is required, 'b' will default to 1 ( which means increase by 1)\n",
        "print(\"a increased by deafult =\", result)\n",
        "\n",
        "result = increase(a=5, b=2)  # If a number assigned to b, it means increase a by the b's value\n",
        "print(\"a increased by b's value =\", result)\n"
      ],
      "metadata": {
        "id": "hmbnDNJrj3Yu",
        "outputId": "2229759a-6daf-4092-b7b0-9c0f2187a78f",
        "colab": {
          "base_uri": "https://localhost:8080/"
        }
      },
      "execution_count": null,
      "outputs": [
        {
          "output_type": "stream",
          "name": "stdout",
          "text": [
            "a increased by deafult = 6\n",
            "a increased by b's value = 7\n"
          ]
        }
      ]
    },
    {
      "cell_type": "markdown",
      "source": [
        "**Variable-length Parameters:** Sometimes, you might want a function to accept an arbitrary number of arguments. This can be achieved using:\n",
        "\n",
        "*args: For non-keyword variable-length arguments. Inside the function, args is a tuple of the passed arguments.\n",
        "\n",
        "Example:"
      ],
      "metadata": {
        "id": "2as4TwC5oWgx"
      }
    },
    {
      "cell_type": "code",
      "source": [
        "def print_everything(*args):\n",
        "    for arg in args:\n",
        "        print(arg)\n",
        "\n",
        "\n",
        "onething = 1\n",
        "print_everything(onething)\n",
        "\n",
        "everything = (42, \"Hello, world!\", 3.14, [1, 2, 3], {\"name\": \"Alice\", \"age\": 30}, (9, 8, 7)) #a tuple that contains a mix of data types\n",
        "print_everything(everything)"
      ],
      "metadata": {
        "id": "HAy_KzXUodqP",
        "outputId": "17b02124-60c9-48f3-f5b2-aeff77cf1a02",
        "colab": {
          "base_uri": "https://localhost:8080/"
        }
      },
      "execution_count": null,
      "outputs": [
        {
          "output_type": "stream",
          "name": "stdout",
          "text": [
            "1\n",
            "(42, 'Hello, world!', 3.14, [1, 2, 3], {'name': 'Alice', 'age': 30}, (9, 8, 7))\n"
          ]
        }
      ]
    },
    {
      "cell_type": "markdown",
      "source": [
        "**kwargs: For keyword variable-length arguments. Inside the function, kwargs is a dictionary of the passed keyword arguments."
      ],
      "metadata": {
        "id": "S_I0wKeTu_4u"
      }
    },
    {
      "cell_type": "code",
      "source": [
        "def print_dictionary(**kwargs):\n",
        "    for key, value in kwargs.items():\n",
        "        print(f\"{key}: {value}\")\n",
        "\n",
        "magnificent_seven = {'AAPL': 2.908, 'MSFT': 3.077, 'AMZN': 1.771, 'GOOG': 1.821, 'META': 1.198, 'NVDA': 1.731, 'TSLA': 0.604}\n",
        "\n",
        "print_dictionary(**magnificent_seven, BRKA=0.859, LLY=0.698)\n"
      ],
      "metadata": {
        "id": "y7Q4MiOfrKnn",
        "outputId": "ab64a813-d9c0-49fb-f8b4-eeaa5bd576c4",
        "colab": {
          "base_uri": "https://localhost:8080/"
        }
      },
      "execution_count": null,
      "outputs": [
        {
          "output_type": "stream",
          "name": "stdout",
          "text": [
            "AAPL: 2.908\n",
            "MSFT: 3.077\n",
            "AMZN: 1.771\n",
            "GOOG: 1.821\n",
            "META: 1.198\n",
            "NVDA: 1.731\n",
            "TSLA: 0.604\n",
            "BRKA: 0.859\n",
            "LLY: 0.698\n"
          ]
        }
      ]
    },
    {
      "cell_type": "markdown",
      "source": [
        "### 0.21 Python Classes\n",
        "\n",
        "In Python, a class is a blueprint for creating objects. Objects have member variables and have behavior associated with them. In python, everything is an object, and classes are used to create and manage new objects and support inheritance—the ability to inherit attributes and behavior (methods) from another class.\n",
        "\n",
        "**Class Definition:**A class is defined using the class keyword, followed by the class name and a colon. Inside the class, methods (functions) and variables can be defined to provide the behaviors and data of the objects created from the class.\n",
        "\n",
        "**The __init__ method** is a special method that Python calls when a new instance of the class is created. It works like a constructor in other programming languages. This method is optional, but it's commonly used to initialize instance variables.\n",
        "\n",
        "\n",
        "**Instance variables** are variables that are unique to each instance of a class. They are defined within methods, typically within the __init__ method, and are prefixed with self, which is a reference to the current instance.\n",
        "\n",
        "**Class variables** are shared across all instances of a class. They are defined within the class but outside of any methods. Class variables are not prefixed with self.\n",
        "\n",
        "**Methods** are functions defined within a class that operate on instances of the class. The first parameter of a method is always self, which is a reference to the instance that the method is being called on.\n",
        "\n",
        "Example:"
      ],
      "metadata": {
        "id": "iEnzMd5Mc8Ao"
      }
    },
    {
      "cell_type": "code",
      "source": [
        "class BankAccount:\n",
        "    # class variable shared by all instances\n",
        "    number_of_accounts = 0\n",
        "\n",
        "    # Initializer / Instance attributes\n",
        "    def __init__(self, customer_name, initial_deposit=0):\n",
        "        self.name = customer_name\n",
        "        self.balance = initial_deposit\n",
        "        self.account_number = BankAccount.number_of_accounts\n",
        "        BankAccount.number_of_accounts = BankAccount.number_of_accounts +1. #update the class variable (number_of_accounts) when a new account created\n",
        "\n",
        "    # display method\n",
        "    def display(self):\n",
        "        print(f\"account_number = {self.account_number}, name={self.name}, balance={self.balance}\")\n",
        "\n",
        "    # deposit method\n",
        "    def deposit(self, amount):\n",
        "        self.balance= self.balance + amount\n",
        "\n",
        "    # withdraw method\n",
        "    def withdraw(self, amount):\n",
        "        self.balance= self.balance - amount\n",
        "\n",
        "    # total_number_of_accounts method\n",
        "    def total_number_of_accounts():\n",
        "        return BankAccount.number_of_accounts\n",
        "\n",
        "\n",
        "#create three new accounts and display their information\n",
        "Adam_account = BankAccount(\"Adam\", 100.0)\n",
        "Bob_account = BankAccount(\"Birenda\", 300.0)\n",
        "Charlise_account = BankAccount(\"Chuck\")\n",
        "Adam_account.display()\n",
        "Bob_account.display()\n",
        "Charlise_account.display()\n",
        "\n",
        "#deposit and withdraw\n",
        "Bob_account.deposit(80.0)\n",
        "Charlise_account.deposit(180.0)\n",
        "Adam_account.withdraw(30.0)\n",
        "\n",
        "#display the new information\n",
        "Adam_account.display()\n",
        "Bob_account.display()\n",
        "Charlise_account.display()\n",
        "\n",
        "#display information about class variable\n",
        "total_number_of_accounts = BankAccount.total_number_of_accounts()\n",
        "print(f\"total_number_of_accounts = {total_number_of_accounts}\" )\n"
      ],
      "metadata": {
        "id": "RPjz1boUjd7b",
        "outputId": "2b27f989-cd74-4f96-ca01-2887908cc39c",
        "colab": {
          "base_uri": "https://localhost:8080/"
        }
      },
      "execution_count": null,
      "outputs": [
        {
          "output_type": "stream",
          "name": "stdout",
          "text": [
            "account_number = 0, name=Adam, balance=100.0\n",
            "account_number = 1.0, name=Birenda, balance=300.0\n",
            "account_number = 2.0, name=Chuck, balance=0\n",
            "account_number = 0, name=Adam, balance=70.0\n",
            "account_number = 1.0, name=Birenda, balance=380.0\n",
            "account_number = 2.0, name=Chuck, balance=180.0\n",
            "total_number_of_accounts = 3.0\n"
          ]
        }
      ]
    },
    {
      "cell_type": "markdown",
      "source": [
        "Inheritance allows one class to inherit the attributes and methods of another class. The class being inherited from is called the parent or superclass, and the class that inherits is called the child or subclass.\n",
        "\n",
        "Example:"
      ],
      "metadata": {
        "id": "C2KZ2ZPwq515"
      }
    },
    {
      "cell_type": "code",
      "source": [
        "#SavingsAccount is child class of Bank Account.\n",
        "#Let's assume any deposit gets one time interest rate of 5% - yes I know it is flawed logic\n",
        "class SavingsAccount(BankAccount):\n",
        "    interest_rate = 0.05\n",
        "\n",
        "    #overwrite the constructor of the parent class with the new logic\n",
        "    def __init__(self, customer_name, initial_deposit=0):\n",
        "        super(SavingsAccount, self).__init__(customer_name, initial_deposit)\n",
        "        self.balance= self.balance * 1.05\n",
        "\n",
        "    #overwrite the deposit method of the parent class with the new logic\n",
        "    def deposit(self, amount):\n",
        "        self.balance = amount * 1.05\n",
        "\n",
        "    #all other methods are inherited from parent\n",
        "\n",
        "Donna_account = BankAccount(\"Donna\", 100.0)\n",
        "Donna_account.display()\n",
        "\n",
        "Elon_account = SavingsAccount(\"Elon\", 200.0)\n",
        "Elon_account.display()\n",
        "\n",
        "Elon_account.deposit(150.0)\n",
        "Elon_account.display()\n",
        "\n",
        "Elon_account.withdraw(50.0)\n",
        "Elon_account.display()\n",
        "\n",
        "#display information about class variable\n",
        "total_number_of_accounts = SavingsAccount.total_number_of_accounts()\n",
        "print(f\"total_number_of_accounts = {total_number_of_accounts}\" )\n"
      ],
      "metadata": {
        "colab": {
          "base_uri": "https://localhost:8080/"
        },
        "id": "bpL1iDuGdmap",
        "outputId": "1022ac7e-a6d0-46b4-f9f0-7143faef1934"
      },
      "execution_count": null,
      "outputs": [
        {
          "output_type": "stream",
          "name": "stdout",
          "text": [
            "account_number = 3.0, name=Donna, balance=100.0\n",
            "account_number = 4.0, name=Elon, balance=210.0\n",
            "account_number = 4.0, name=Elon, balance=157.5\n",
            "account_number = 4.0, name=Elon, balance=107.5\n",
            "total_number_of_accounts = 5.0\n"
          ]
        }
      ]
    },
    {
      "cell_type": "markdown",
      "source": [
        "### 0.22 Summary  \n",
        "\n",
        "In this part2 of chapter 0, you've learned about Python functions and classes.\n"
      ],
      "metadata": {
        "id": "zUBl2EVb76LN"
      }
    }
  ],
  "metadata": {
    "anaconda-cloud": {},
    "kernelspec": {
      "display_name": "Python 3",
      "language": "python",
      "name": "python3"
    },
    "language_info": {
      "codemirror_mode": {
        "name": "ipython",
        "version": 3
      },
      "file_extension": ".py",
      "mimetype": "text/x-python",
      "name": "python",
      "nbconvert_exporter": "python",
      "pygments_lexer": "ipython3",
      "version": "3.5.1"
    },
    "colab": {
      "provenance": [],
      "toc_visible": true,
      "include_colab_link": true
    }
  },
  "nbformat": 4,
  "nbformat_minor": 0
}